{
 "cells": [
  {
   "cell_type": "code",
   "execution_count": 3,
   "metadata": {},
   "outputs": [],
   "source": [
    "# numpy and pandas for data manipulation\n",
    "import numpy as np\n",
    "import pandas as pd \n",
    "\n",
    "# sklearn preprocessing for dealing with categorical variables\n",
    "from sklearn.preprocessing import LabelEncoder # 범주형 변수처리\n",
    "from sklearn.decomposition import PCA\n",
    "from sklearn.impute import SimpleImputer   # SimpleImputer는 결측치를 간편하게 처리해주는 클래스.\n",
    "from sklearn.preprocessing import PolynomialFeatures   # PolynomialFeatures 다항차수 변환을 해주는 클래스.\n",
    "from sklearn.preprocessing import *\n",
    "from sklearn.model_selection import train_test_split\n",
    "\n",
    "# machine-learning model\n",
    "from sklearn.tree import DecisionTreeClassifier\n",
    "from sklearn.ensemble import RandomForestClassifier\n",
    "from sklearn.linear_model import LogisticRegression\n",
    "import xgboost as xgb\n",
    "from xgboost import plot_importance\n",
    "from xgboost import XGBClassifier\n",
    "from lightgbm import LGBMClassifier\n",
    "from sklearn.ensemble import GradientBoostingClassifier\n",
    "\n",
    "from sklearn.model_selection import GridSearchCV\n",
    "from sklearn.metrics import accuracy_score\n",
    "\n",
    "\n",
    "# file system manangement\n",
    "import os # 파일 시스템 관리\n",
    "\n",
    "# suppress warnings \n",
    "import warnings\n",
    "warnings.filterwarnings('ignore')\n",
    "\n",
    "# matplotlib and seaborn for plotting\n",
    "import matplotlib.pyplot as plt\n",
    "import seaborn as sns"
   ]
  },
  {
   "cell_type": "code",
   "execution_count": 4,
   "metadata": {
    "scrolled": true
   },
   "outputs": [
    {
     "name": "stdout",
     "output_type": "stream",
     "text": [
      "Training data shape:  (307511, 122)\n"
     ]
    },
    {
     "data": {
      "text/html": [
       "<div>\n",
       "<style scoped>\n",
       "    .dataframe tbody tr th:only-of-type {\n",
       "        vertical-align: middle;\n",
       "    }\n",
       "\n",
       "    .dataframe tbody tr th {\n",
       "        vertical-align: top;\n",
       "    }\n",
       "\n",
       "    .dataframe thead th {\n",
       "        text-align: right;\n",
       "    }\n",
       "</style>\n",
       "<table border=\"1\" class=\"dataframe\">\n",
       "  <thead>\n",
       "    <tr style=\"text-align: right;\">\n",
       "      <th></th>\n",
       "      <th>SK_ID_CURR</th>\n",
       "      <th>TARGET</th>\n",
       "      <th>NAME_CONTRACT_TYPE</th>\n",
       "      <th>CODE_GENDER</th>\n",
       "      <th>FLAG_OWN_CAR</th>\n",
       "      <th>FLAG_OWN_REALTY</th>\n",
       "      <th>CNT_CHILDREN</th>\n",
       "      <th>AMT_INCOME_TOTAL</th>\n",
       "      <th>AMT_CREDIT</th>\n",
       "      <th>AMT_ANNUITY</th>\n",
       "      <th>...</th>\n",
       "      <th>FLAG_DOCUMENT_18</th>\n",
       "      <th>FLAG_DOCUMENT_19</th>\n",
       "      <th>FLAG_DOCUMENT_20</th>\n",
       "      <th>FLAG_DOCUMENT_21</th>\n",
       "      <th>AMT_REQ_CREDIT_BUREAU_HOUR</th>\n",
       "      <th>AMT_REQ_CREDIT_BUREAU_DAY</th>\n",
       "      <th>AMT_REQ_CREDIT_BUREAU_WEEK</th>\n",
       "      <th>AMT_REQ_CREDIT_BUREAU_MON</th>\n",
       "      <th>AMT_REQ_CREDIT_BUREAU_QRT</th>\n",
       "      <th>AMT_REQ_CREDIT_BUREAU_YEAR</th>\n",
       "    </tr>\n",
       "  </thead>\n",
       "  <tbody>\n",
       "    <tr>\n",
       "      <th>0</th>\n",
       "      <td>100002</td>\n",
       "      <td>1</td>\n",
       "      <td>Cash loans</td>\n",
       "      <td>M</td>\n",
       "      <td>N</td>\n",
       "      <td>Y</td>\n",
       "      <td>0</td>\n",
       "      <td>202500.0</td>\n",
       "      <td>406597.5</td>\n",
       "      <td>24700.5</td>\n",
       "      <td>...</td>\n",
       "      <td>0</td>\n",
       "      <td>0</td>\n",
       "      <td>0</td>\n",
       "      <td>0</td>\n",
       "      <td>0.0</td>\n",
       "      <td>0.0</td>\n",
       "      <td>0.0</td>\n",
       "      <td>0.0</td>\n",
       "      <td>0.0</td>\n",
       "      <td>1.0</td>\n",
       "    </tr>\n",
       "    <tr>\n",
       "      <th>1</th>\n",
       "      <td>100003</td>\n",
       "      <td>0</td>\n",
       "      <td>Cash loans</td>\n",
       "      <td>F</td>\n",
       "      <td>N</td>\n",
       "      <td>N</td>\n",
       "      <td>0</td>\n",
       "      <td>270000.0</td>\n",
       "      <td>1293502.5</td>\n",
       "      <td>35698.5</td>\n",
       "      <td>...</td>\n",
       "      <td>0</td>\n",
       "      <td>0</td>\n",
       "      <td>0</td>\n",
       "      <td>0</td>\n",
       "      <td>0.0</td>\n",
       "      <td>0.0</td>\n",
       "      <td>0.0</td>\n",
       "      <td>0.0</td>\n",
       "      <td>0.0</td>\n",
       "      <td>0.0</td>\n",
       "    </tr>\n",
       "    <tr>\n",
       "      <th>2</th>\n",
       "      <td>100004</td>\n",
       "      <td>0</td>\n",
       "      <td>Revolving loans</td>\n",
       "      <td>M</td>\n",
       "      <td>Y</td>\n",
       "      <td>Y</td>\n",
       "      <td>0</td>\n",
       "      <td>67500.0</td>\n",
       "      <td>135000.0</td>\n",
       "      <td>6750.0</td>\n",
       "      <td>...</td>\n",
       "      <td>0</td>\n",
       "      <td>0</td>\n",
       "      <td>0</td>\n",
       "      <td>0</td>\n",
       "      <td>0.0</td>\n",
       "      <td>0.0</td>\n",
       "      <td>0.0</td>\n",
       "      <td>0.0</td>\n",
       "      <td>0.0</td>\n",
       "      <td>0.0</td>\n",
       "    </tr>\n",
       "    <tr>\n",
       "      <th>3</th>\n",
       "      <td>100006</td>\n",
       "      <td>0</td>\n",
       "      <td>Cash loans</td>\n",
       "      <td>F</td>\n",
       "      <td>N</td>\n",
       "      <td>Y</td>\n",
       "      <td>0</td>\n",
       "      <td>135000.0</td>\n",
       "      <td>312682.5</td>\n",
       "      <td>29686.5</td>\n",
       "      <td>...</td>\n",
       "      <td>0</td>\n",
       "      <td>0</td>\n",
       "      <td>0</td>\n",
       "      <td>0</td>\n",
       "      <td>NaN</td>\n",
       "      <td>NaN</td>\n",
       "      <td>NaN</td>\n",
       "      <td>NaN</td>\n",
       "      <td>NaN</td>\n",
       "      <td>NaN</td>\n",
       "    </tr>\n",
       "    <tr>\n",
       "      <th>4</th>\n",
       "      <td>100007</td>\n",
       "      <td>0</td>\n",
       "      <td>Cash loans</td>\n",
       "      <td>M</td>\n",
       "      <td>N</td>\n",
       "      <td>Y</td>\n",
       "      <td>0</td>\n",
       "      <td>121500.0</td>\n",
       "      <td>513000.0</td>\n",
       "      <td>21865.5</td>\n",
       "      <td>...</td>\n",
       "      <td>0</td>\n",
       "      <td>0</td>\n",
       "      <td>0</td>\n",
       "      <td>0</td>\n",
       "      <td>0.0</td>\n",
       "      <td>0.0</td>\n",
       "      <td>0.0</td>\n",
       "      <td>0.0</td>\n",
       "      <td>0.0</td>\n",
       "      <td>0.0</td>\n",
       "    </tr>\n",
       "  </tbody>\n",
       "</table>\n",
       "<p>5 rows × 122 columns</p>\n",
       "</div>"
      ],
      "text/plain": [
       "   SK_ID_CURR  TARGET NAME_CONTRACT_TYPE CODE_GENDER FLAG_OWN_CAR  \\\n",
       "0      100002       1         Cash loans           M            N   \n",
       "1      100003       0         Cash loans           F            N   \n",
       "2      100004       0    Revolving loans           M            Y   \n",
       "3      100006       0         Cash loans           F            N   \n",
       "4      100007       0         Cash loans           M            N   \n",
       "\n",
       "  FLAG_OWN_REALTY  CNT_CHILDREN  AMT_INCOME_TOTAL  AMT_CREDIT  AMT_ANNUITY  \\\n",
       "0               Y             0          202500.0    406597.5      24700.5   \n",
       "1               N             0          270000.0   1293502.5      35698.5   \n",
       "2               Y             0           67500.0    135000.0       6750.0   \n",
       "3               Y             0          135000.0    312682.5      29686.5   \n",
       "4               Y             0          121500.0    513000.0      21865.5   \n",
       "\n",
       "   ...  FLAG_DOCUMENT_18 FLAG_DOCUMENT_19 FLAG_DOCUMENT_20 FLAG_DOCUMENT_21  \\\n",
       "0  ...                 0                0                0                0   \n",
       "1  ...                 0                0                0                0   \n",
       "2  ...                 0                0                0                0   \n",
       "3  ...                 0                0                0                0   \n",
       "4  ...                 0                0                0                0   \n",
       "\n",
       "  AMT_REQ_CREDIT_BUREAU_HOUR AMT_REQ_CREDIT_BUREAU_DAY  \\\n",
       "0                        0.0                       0.0   \n",
       "1                        0.0                       0.0   \n",
       "2                        0.0                       0.0   \n",
       "3                        NaN                       NaN   \n",
       "4                        0.0                       0.0   \n",
       "\n",
       "   AMT_REQ_CREDIT_BUREAU_WEEK  AMT_REQ_CREDIT_BUREAU_MON  \\\n",
       "0                         0.0                        0.0   \n",
       "1                         0.0                        0.0   \n",
       "2                         0.0                        0.0   \n",
       "3                         NaN                        NaN   \n",
       "4                         0.0                        0.0   \n",
       "\n",
       "   AMT_REQ_CREDIT_BUREAU_QRT  AMT_REQ_CREDIT_BUREAU_YEAR  \n",
       "0                        0.0                         1.0  \n",
       "1                        0.0                         0.0  \n",
       "2                        0.0                         0.0  \n",
       "3                        NaN                         NaN  \n",
       "4                        0.0                         0.0  \n",
       "\n",
       "[5 rows x 122 columns]"
      ]
     },
     "execution_count": 4,
     "metadata": {},
     "output_type": "execute_result"
    }
   ],
   "source": [
    "# Training data\n",
    "app_train = pd.read_csv(\"application_train.csv\")\n",
    "print('Training data shape: ', app_train.shape) # 크기 확인\n",
    "app_train.head()"
   ]
  },
  {
   "cell_type": "code",
   "execution_count": 5,
   "metadata": {
    "scrolled": true
   },
   "outputs": [
    {
     "name": "stdout",
     "output_type": "stream",
     "text": [
      "Testing data shape:  (48744, 121)\n"
     ]
    },
    {
     "data": {
      "text/html": [
       "<div>\n",
       "<style scoped>\n",
       "    .dataframe tbody tr th:only-of-type {\n",
       "        vertical-align: middle;\n",
       "    }\n",
       "\n",
       "    .dataframe tbody tr th {\n",
       "        vertical-align: top;\n",
       "    }\n",
       "\n",
       "    .dataframe thead th {\n",
       "        text-align: right;\n",
       "    }\n",
       "</style>\n",
       "<table border=\"1\" class=\"dataframe\">\n",
       "  <thead>\n",
       "    <tr style=\"text-align: right;\">\n",
       "      <th></th>\n",
       "      <th>SK_ID_CURR</th>\n",
       "      <th>NAME_CONTRACT_TYPE</th>\n",
       "      <th>CODE_GENDER</th>\n",
       "      <th>FLAG_OWN_CAR</th>\n",
       "      <th>FLAG_OWN_REALTY</th>\n",
       "      <th>CNT_CHILDREN</th>\n",
       "      <th>AMT_INCOME_TOTAL</th>\n",
       "      <th>AMT_CREDIT</th>\n",
       "      <th>AMT_ANNUITY</th>\n",
       "      <th>AMT_GOODS_PRICE</th>\n",
       "      <th>...</th>\n",
       "      <th>FLAG_DOCUMENT_18</th>\n",
       "      <th>FLAG_DOCUMENT_19</th>\n",
       "      <th>FLAG_DOCUMENT_20</th>\n",
       "      <th>FLAG_DOCUMENT_21</th>\n",
       "      <th>AMT_REQ_CREDIT_BUREAU_HOUR</th>\n",
       "      <th>AMT_REQ_CREDIT_BUREAU_DAY</th>\n",
       "      <th>AMT_REQ_CREDIT_BUREAU_WEEK</th>\n",
       "      <th>AMT_REQ_CREDIT_BUREAU_MON</th>\n",
       "      <th>AMT_REQ_CREDIT_BUREAU_QRT</th>\n",
       "      <th>AMT_REQ_CREDIT_BUREAU_YEAR</th>\n",
       "    </tr>\n",
       "  </thead>\n",
       "  <tbody>\n",
       "    <tr>\n",
       "      <th>0</th>\n",
       "      <td>100001</td>\n",
       "      <td>Cash loans</td>\n",
       "      <td>F</td>\n",
       "      <td>N</td>\n",
       "      <td>Y</td>\n",
       "      <td>0</td>\n",
       "      <td>135000.0</td>\n",
       "      <td>568800.0</td>\n",
       "      <td>20560.5</td>\n",
       "      <td>450000.0</td>\n",
       "      <td>...</td>\n",
       "      <td>0</td>\n",
       "      <td>0</td>\n",
       "      <td>0</td>\n",
       "      <td>0</td>\n",
       "      <td>0.0</td>\n",
       "      <td>0.0</td>\n",
       "      <td>0.0</td>\n",
       "      <td>0.0</td>\n",
       "      <td>0.0</td>\n",
       "      <td>0.0</td>\n",
       "    </tr>\n",
       "    <tr>\n",
       "      <th>1</th>\n",
       "      <td>100005</td>\n",
       "      <td>Cash loans</td>\n",
       "      <td>M</td>\n",
       "      <td>N</td>\n",
       "      <td>Y</td>\n",
       "      <td>0</td>\n",
       "      <td>99000.0</td>\n",
       "      <td>222768.0</td>\n",
       "      <td>17370.0</td>\n",
       "      <td>180000.0</td>\n",
       "      <td>...</td>\n",
       "      <td>0</td>\n",
       "      <td>0</td>\n",
       "      <td>0</td>\n",
       "      <td>0</td>\n",
       "      <td>0.0</td>\n",
       "      <td>0.0</td>\n",
       "      <td>0.0</td>\n",
       "      <td>0.0</td>\n",
       "      <td>0.0</td>\n",
       "      <td>3.0</td>\n",
       "    </tr>\n",
       "    <tr>\n",
       "      <th>2</th>\n",
       "      <td>100013</td>\n",
       "      <td>Cash loans</td>\n",
       "      <td>M</td>\n",
       "      <td>Y</td>\n",
       "      <td>Y</td>\n",
       "      <td>0</td>\n",
       "      <td>202500.0</td>\n",
       "      <td>663264.0</td>\n",
       "      <td>69777.0</td>\n",
       "      <td>630000.0</td>\n",
       "      <td>...</td>\n",
       "      <td>0</td>\n",
       "      <td>0</td>\n",
       "      <td>0</td>\n",
       "      <td>0</td>\n",
       "      <td>0.0</td>\n",
       "      <td>0.0</td>\n",
       "      <td>0.0</td>\n",
       "      <td>0.0</td>\n",
       "      <td>1.0</td>\n",
       "      <td>4.0</td>\n",
       "    </tr>\n",
       "    <tr>\n",
       "      <th>3</th>\n",
       "      <td>100028</td>\n",
       "      <td>Cash loans</td>\n",
       "      <td>F</td>\n",
       "      <td>N</td>\n",
       "      <td>Y</td>\n",
       "      <td>2</td>\n",
       "      <td>315000.0</td>\n",
       "      <td>1575000.0</td>\n",
       "      <td>49018.5</td>\n",
       "      <td>1575000.0</td>\n",
       "      <td>...</td>\n",
       "      <td>0</td>\n",
       "      <td>0</td>\n",
       "      <td>0</td>\n",
       "      <td>0</td>\n",
       "      <td>0.0</td>\n",
       "      <td>0.0</td>\n",
       "      <td>0.0</td>\n",
       "      <td>0.0</td>\n",
       "      <td>0.0</td>\n",
       "      <td>3.0</td>\n",
       "    </tr>\n",
       "    <tr>\n",
       "      <th>4</th>\n",
       "      <td>100038</td>\n",
       "      <td>Cash loans</td>\n",
       "      <td>M</td>\n",
       "      <td>Y</td>\n",
       "      <td>N</td>\n",
       "      <td>1</td>\n",
       "      <td>180000.0</td>\n",
       "      <td>625500.0</td>\n",
       "      <td>32067.0</td>\n",
       "      <td>625500.0</td>\n",
       "      <td>...</td>\n",
       "      <td>0</td>\n",
       "      <td>0</td>\n",
       "      <td>0</td>\n",
       "      <td>0</td>\n",
       "      <td>NaN</td>\n",
       "      <td>NaN</td>\n",
       "      <td>NaN</td>\n",
       "      <td>NaN</td>\n",
       "      <td>NaN</td>\n",
       "      <td>NaN</td>\n",
       "    </tr>\n",
       "  </tbody>\n",
       "</table>\n",
       "<p>5 rows × 121 columns</p>\n",
       "</div>"
      ],
      "text/plain": [
       "   SK_ID_CURR NAME_CONTRACT_TYPE CODE_GENDER FLAG_OWN_CAR FLAG_OWN_REALTY  \\\n",
       "0      100001         Cash loans           F            N               Y   \n",
       "1      100005         Cash loans           M            N               Y   \n",
       "2      100013         Cash loans           M            Y               Y   \n",
       "3      100028         Cash loans           F            N               Y   \n",
       "4      100038         Cash loans           M            Y               N   \n",
       "\n",
       "   CNT_CHILDREN  AMT_INCOME_TOTAL  AMT_CREDIT  AMT_ANNUITY  AMT_GOODS_PRICE  \\\n",
       "0             0          135000.0    568800.0      20560.5         450000.0   \n",
       "1             0           99000.0    222768.0      17370.0         180000.0   \n",
       "2             0          202500.0    663264.0      69777.0         630000.0   \n",
       "3             2          315000.0   1575000.0      49018.5        1575000.0   \n",
       "4             1          180000.0    625500.0      32067.0         625500.0   \n",
       "\n",
       "   ... FLAG_DOCUMENT_18 FLAG_DOCUMENT_19 FLAG_DOCUMENT_20 FLAG_DOCUMENT_21  \\\n",
       "0  ...                0                0                0                0   \n",
       "1  ...                0                0                0                0   \n",
       "2  ...                0                0                0                0   \n",
       "3  ...                0                0                0                0   \n",
       "4  ...                0                0                0                0   \n",
       "\n",
       "  AMT_REQ_CREDIT_BUREAU_HOUR  AMT_REQ_CREDIT_BUREAU_DAY  \\\n",
       "0                        0.0                        0.0   \n",
       "1                        0.0                        0.0   \n",
       "2                        0.0                        0.0   \n",
       "3                        0.0                        0.0   \n",
       "4                        NaN                        NaN   \n",
       "\n",
       "   AMT_REQ_CREDIT_BUREAU_WEEK  AMT_REQ_CREDIT_BUREAU_MON  \\\n",
       "0                         0.0                        0.0   \n",
       "1                         0.0                        0.0   \n",
       "2                         0.0                        0.0   \n",
       "3                         0.0                        0.0   \n",
       "4                         NaN                        NaN   \n",
       "\n",
       "   AMT_REQ_CREDIT_BUREAU_QRT  AMT_REQ_CREDIT_BUREAU_YEAR  \n",
       "0                        0.0                         0.0  \n",
       "1                        0.0                         3.0  \n",
       "2                        1.0                         4.0  \n",
       "3                        0.0                         3.0  \n",
       "4                        NaN                         NaN  \n",
       "\n",
       "[5 rows x 121 columns]"
      ]
     },
     "execution_count": 5,
     "metadata": {},
     "output_type": "execute_result"
    }
   ],
   "source": [
    "# Testing data features\n",
    "app_test = pd.read_csv('application_test.csv')\n",
    "print('Testing data shape: ', app_test.shape)\n",
    "app_test.head()"
   ]
  },
  {
   "cell_type": "markdown",
   "metadata": {},
   "source": [
    "# Exploratory Data Analysis"
   ]
  },
  {
   "cell_type": "markdown",
   "metadata": {},
   "source": [
    "## TARGET 변수(label)의 분포"
   ]
  },
  {
   "cell_type": "code",
   "execution_count": 6,
   "metadata": {
    "scrolled": true
   },
   "outputs": [
    {
     "data": {
      "text/plain": [
       "0    282686\n",
       "1     24825\n",
       "Name: TARGET, dtype: int64"
      ]
     },
     "execution_count": 6,
     "metadata": {},
     "output_type": "execute_result"
    }
   ],
   "source": [
    "app_train['TARGET'].value_counts()"
   ]
  },
  {
   "cell_type": "code",
   "execution_count": 7,
   "metadata": {},
   "outputs": [
    {
     "data": {
      "text/plain": [
       "NAME_CONTRACT_TYPE             2\n",
       "CODE_GENDER                    3\n",
       "FLAG_OWN_CAR                   2\n",
       "FLAG_OWN_REALTY                2\n",
       "NAME_TYPE_SUITE                7\n",
       "NAME_INCOME_TYPE               8\n",
       "NAME_EDUCATION_TYPE            5\n",
       "NAME_FAMILY_STATUS             6\n",
       "NAME_HOUSING_TYPE              6\n",
       "OCCUPATION_TYPE               18\n",
       "WEEKDAY_APPR_PROCESS_START     7\n",
       "ORGANIZATION_TYPE             58\n",
       "FONDKAPREMONT_MODE             4\n",
       "HOUSETYPE_MODE                 3\n",
       "WALLSMATERIAL_MODE             7\n",
       "EMERGENCYSTATE_MODE            2\n",
       "dtype: int64"
      ]
     },
     "execution_count": 7,
     "metadata": {},
     "output_type": "execute_result"
    }
   ],
   "source": [
    "app_train.select_dtypes('object').apply(pd.Series.nunique, axis = 0)"
   ]
  },
  {
   "cell_type": "code",
   "execution_count": 8,
   "metadata": {},
   "outputs": [
    {
     "data": {
      "image/png": "[encoded data removed]",
      "text/plain": [
       "<Figure size 432x288 with 1 Axes>"
      ]
     },
     "metadata": {
      "needs_background": "light"
     },
     "output_type": "display_data"
    }
   ],
   "source": [
    "app_train['TARGET'].astype(int).plot.hist();"
   ]
  },
  {
   "cell_type": "markdown",
   "metadata": {},
   "source": [
    "1은 대출을 제때 갚지 못한 경우이며 0은 제때 갚은 경우이다. 따라서 분포를 통해 대출을 제때 갚지 못하는 경우가 제때 갚는 경우보다 훨씬 적음을 알 수 있다.  \n",
    "→ 이 분포가 모델링을 적용할 때 가중치에 영향을 줄 수 있다는 사실을 고려해야 한다."
   ]
  },
  {
   "cell_type": "markdown",
   "metadata": {},
   "source": [
    "## 명목형 변수 인코딩"
   ]
  },
  {
   "cell_type": "code",
   "execution_count": 9,
   "metadata": {},
   "outputs": [
    {
     "data": {
      "text/plain": [
       "float64    65\n",
       "int64      41\n",
       "object     16\n",
       "dtype: int64"
      ]
     },
     "execution_count": 9,
     "metadata": {},
     "output_type": "execute_result"
    }
   ],
   "source": [
    "app_train.dtypes.value_counts()"
   ]
  },
  {
   "cell_type": "markdown",
   "metadata": {},
   "source": [
    "### 라벨 인코딩"
   ]
  },
  {
   "cell_type": "code",
   "execution_count": 10,
   "metadata": {},
   "outputs": [
    {
     "name": "stdout",
     "output_type": "stream",
     "text": [
      "3 columns were label encoded.\n"
     ]
    }
   ],
   "source": [
    "# 객체 생성\n",
    "le = LabelEncoder()\n",
    "le_count = 0\n",
    "\n",
    "for col in app_train:\n",
    "    if app_train[col].dtype == 'object': # 칼럼이 object타입이면\n",
    "        \n",
    "        # If 2 or fewer unique categories\n",
    "        if len(list(app_train[col].unique())) <= 2:  # .unique method는 칼럼마다 값의 종류를 보여주는 operator.\n",
    "            \n",
    "            # Train on the training data\n",
    "            le.fit(app_train[col])   # 라벨인코딩: 두 개 이하의 값 종류를 가진 칼럼을 1과 0의 값을 가진 변수로 변환해준다. ex) 성별\n",
    "            \n",
    "            # Transform both training and testing data\n",
    "            app_train[col] = le.transform(app_train[col])  # 라벨 인코딩으로 변환해서 원래 데이터의 칼럼을 대체해준다.\n",
    "            app_test[col] = le.transform(app_test[col])   # test 데이터에도 동일하게 변환.\n",
    "            \n",
    "            # Keep track of how many columns were label encoded\n",
    "            le_count += 1   # 라벨 인코딩된 데이터의 개수를 세주기 위해 count 1 증가.\n",
    "            \n",
    "print('%d columns were label encoded.' % le_count)"
   ]
  },
  {
   "cell_type": "markdown",
   "metadata": {},
   "source": [
    "가변수는 해당 범주에 해당하는 경우 1, 아닌 경우 0으로 값을 입력해서 범주형 자료의 값을 인식할 수 있도록 해준다.\n",
    "범주형 자료를 가변수로 변환해주는 operator는 get_dummies()가 있다."
   ]
  },
  {
   "cell_type": "code",
   "execution_count": 11,
   "metadata": {
    "scrolled": true
   },
   "outputs": [
    {
     "name": "stdout",
     "output_type": "stream",
     "text": [
      "(307511, 122) (48744, 121)\n",
      "Training Features shape:  (307511, 243)\n",
      "Testing Features shape:  (48744, 239)\n"
     ]
    }
   ],
   "source": [
    "# 명목형 변수의 원핫 인코딩\n",
    "print(app_train.shape, app_test.shape)\n",
    "\n",
    "app_train = pd.get_dummies(app_train)\n",
    "app_test = pd.get_dummies(app_test)\n",
    "\n",
    "\n",
    "print('Training Features shape: ', app_train.shape)\n",
    "print('Testing Features shape: ', app_test.shape)"
   ]
  },
  {
   "cell_type": "markdown",
   "metadata": {},
   "source": [
    "결과를 보면 dummy variable을 생성하여 변수의 종류가 train data의 경우 122에서 243으로 증가했고, test data의 경우 121에서 239로 증가했다. 이는 120개 가량의 변수들 내에서 범주형 변수가 있었고 그 변수들 내의 값의 종류가 그만큼 많다는 의미다."
   ]
  },
  {
   "cell_type": "code",
   "execution_count": 12,
   "metadata": {
    "scrolled": true
   },
   "outputs": [
    {
     "name": "stdout",
     "output_type": "stream",
     "text": [
      "Training Features shape:  (307511, 240)\n",
      "Testing Features shape:  (48744, 239)\n"
     ]
    }
   ],
   "source": [
    "train_labels = app_train['TARGET']\n",
    "\n",
    "# Align the training and testing data, keep only columns present in both dataframes\n",
    "app_train, app_test = app_train.align(app_test, join = 'inner', axis = 1)\n",
    "# align : 동시에 존재하는 칼럼을 출력해여 동일한 순서로 배열\n",
    "# join = 'inner' : (교집합 외)동시에 존재하지 않는 칼럼은 삭제\n",
    "\n",
    "\n",
    "# Add the target back in. \n",
    "app_train['TARGET'] = train_labels   # train 데이터에 추가해주는 이유는 위의 align method 때문에 삭제됐기 때문이다. 삭제된 이유는 위에 있음.\n",
    "\n",
    "print('Training Features shape: ', app_train.shape)\n",
    "print('Testing Features shape: ', app_test.shape)"
   ]
  },
  {
   "cell_type": "markdown",
   "metadata": {},
   "source": [
    "Training Features shape의 column이 1이 더 높은 이유는 target 변수가 있기 때문이다."
   ]
  },
  {
   "cell_type": "markdown",
   "metadata": {},
   "source": [
    "## 결측치 확인용 함수 제작 및 사용"
   ]
  },
  {
   "cell_type": "code",
   "execution_count": 13,
   "metadata": {},
   "outputs": [],
   "source": [
    "def find_missing(data):\n",
    "    # number of missing values\n",
    "    count_missing = data.isnull().sum().values\n",
    "    # total records\n",
    "    total = data.shape[0]\n",
    "    # percentage of missing\n",
    "    ratio_missing = count_missing/total\n",
    "    # return a dataframe to show: feature name, # of missing and % of missing\n",
    "    return pd.DataFrame(data={'missing_count':count_missing, 'missing_ratio':ratio_missing}, index=data.columns.values)"
   ]
  },
  {
   "cell_type": "code",
   "execution_count": 14,
   "metadata": {},
   "outputs": [],
   "source": [
    "missing_train = find_missing(app_train)\n",
    "missing_test = find_missing(app_test)\n",
    "\n",
    "missing = pd.concat([missing_train,missing_test])"
   ]
  },
  {
   "cell_type": "markdown",
   "metadata": {},
   "source": [
    "## 결측치 확인용 함수 제작 및 사용"
   ]
  },
  {
   "cell_type": "code",
   "execution_count": 15,
   "metadata": {},
   "outputs": [],
   "source": [
    "def see_missing(missing):\n",
    "    missing_10 = missing[  (missing['missing_count']>=10)  &  (missing['missing_count']<20)]  \n",
    "    missing_100 =  missing[  (missing['missing_count']>=20)  &  (missing['missing_count']<100)] \n",
    "    missing_1000 = missing[  (missing['missing_count']>=100)  &  (missing['missing_count']<1000)] \n",
    "    missing_10000 = missing[  (missing['missing_count']>=1000)  &  (missing['missing_count']<10000)] \n",
    "    missing_100000 = missing[  (missing['missing_count']>=10000)  &  (missing['missing_count']<100000)] \n",
    "    missing_1000000 = missing[  (missing['missing_count']>=100000)  ]\n",
    "\n",
    "    print('결측치 10개 미만\\n', missing_10,'\\n--------------\\n')\n",
    "    print('결측치 100개 미만\\n', missing_100,'\\n--------------\\n')\n",
    "    print('결측치 1000개 미만\\n', missing_1000,'\\n--------------\\n')\n",
    "    print('결측치 10000개 미만\\n', missing_10000,'\\n--------------\\n')\n",
    "    print('결측치 100000개 미만\\n', missing_100000,'\\n--------------\\n')\n",
    "    print('결측치 100000개 이상\\n', missing_1000000,'\\n--------------\\n')"
   ]
  },
  {
   "cell_type": "code",
   "execution_count": 16,
   "metadata": {},
   "outputs": [
    {
     "name": "stdout",
     "output_type": "stream",
     "text": [
      "결측치 10개 미만\n",
      "              missing_count  missing_ratio\n",
      "AMT_ANNUITY             12       0.000039 \n",
      "--------------\n",
      "\n",
      "결측치 100개 미만\n",
      " Empty DataFrame\n",
      "Columns: [missing_count, missing_ratio]\n",
      "Index: [] \n",
      "--------------\n",
      "\n",
      "결측치 1000개 미만\n",
      "                  missing_count  missing_ratio\n",
      "AMT_GOODS_PRICE            278       0.000904\n",
      "EXT_SOURCE_2               660       0.002146 \n",
      "--------------\n",
      "\n",
      "결측치 10000개 미만\n",
      "                           missing_count  missing_ratio\n",
      "OBS_30_CNT_SOCIAL_CIRCLE           1021        0.00332\n",
      "DEF_30_CNT_SOCIAL_CIRCLE           1021        0.00332\n",
      "OBS_60_CNT_SOCIAL_CIRCLE           1021        0.00332\n",
      "DEF_60_CNT_SOCIAL_CIRCLE           1021        0.00332 \n",
      "--------------\n",
      "\n",
      "결측치 100000개 미만\n",
      "                             missing_count  missing_ratio\n",
      "EXT_SOURCE_3                        60965       0.198253\n",
      "AMT_REQ_CREDIT_BUREAU_HOUR          41519       0.135016\n",
      "AMT_REQ_CREDIT_BUREAU_DAY           41519       0.135016\n",
      "AMT_REQ_CREDIT_BUREAU_WEEK          41519       0.135016\n",
      "AMT_REQ_CREDIT_BUREAU_MON           41519       0.135016\n",
      "AMT_REQ_CREDIT_BUREAU_QRT           41519       0.135016\n",
      "AMT_REQ_CREDIT_BUREAU_YEAR          41519       0.135016 \n",
      "--------------\n",
      "\n",
      "결측치 100000개 이상\n",
      "                               missing_count  missing_ratio\n",
      "OWN_CAR_AGE                          202929       0.659908\n",
      "EXT_SOURCE_1                         173378       0.563811\n",
      "APARTMENTS_AVG                       156061       0.507497\n",
      "BASEMENTAREA_AVG                     179943       0.585160\n",
      "YEARS_BEGINEXPLUATATION_AVG          150007       0.487810\n",
      "YEARS_BUILD_AVG                      204488       0.664978\n",
      "COMMONAREA_AVG                       214865       0.698723\n",
      "ELEVATORS_AVG                        163891       0.532960\n",
      "ENTRANCES_AVG                        154828       0.503488\n",
      "FLOORSMAX_AVG                        153020       0.497608\n",
      "FLOORSMIN_AVG                        208642       0.678486\n",
      "LANDAREA_AVG                         182590       0.593767\n",
      "LIVINGAPARTMENTS_AVG                 210199       0.683550\n",
      "LIVINGAREA_AVG                       154350       0.501933\n",
      "NONLIVINGAPARTMENTS_AVG              213514       0.694330\n",
      "NONLIVINGAREA_AVG                    169682       0.551792\n",
      "APARTMENTS_MODE                      156061       0.507497\n",
      "BASEMENTAREA_MODE                    179943       0.585160\n",
      "YEARS_BEGINEXPLUATATION_MODE         150007       0.487810\n",
      "YEARS_BUILD_MODE                     204488       0.664978\n",
      "COMMONAREA_MODE                      214865       0.698723\n",
      "ELEVATORS_MODE                       163891       0.532960\n",
      "ENTRANCES_MODE                       154828       0.503488\n",
      "FLOORSMAX_MODE                       153020       0.497608\n",
      "FLOORSMIN_MODE                       208642       0.678486\n",
      "LANDAREA_MODE                        182590       0.593767\n",
      "LIVINGAPARTMENTS_MODE                210199       0.683550\n",
      "LIVINGAREA_MODE                      154350       0.501933\n",
      "NONLIVINGAPARTMENTS_MODE             213514       0.694330\n",
      "NONLIVINGAREA_MODE                   169682       0.551792\n",
      "APARTMENTS_MEDI                      156061       0.507497\n",
      "BASEMENTAREA_MEDI                    179943       0.585160\n",
      "YEARS_BEGINEXPLUATATION_MEDI         150007       0.487810\n",
      "YEARS_BUILD_MEDI                     204488       0.664978\n",
      "COMMONAREA_MEDI                      214865       0.698723\n",
      "ELEVATORS_MEDI                       163891       0.532960\n",
      "ENTRANCES_MEDI                       154828       0.503488\n",
      "FLOORSMAX_MEDI                       153020       0.497608\n",
      "FLOORSMIN_MEDI                       208642       0.678486\n",
      "LANDAREA_MEDI                        182590       0.593767\n",
      "LIVINGAPARTMENTS_MEDI                210199       0.683550\n",
      "LIVINGAREA_MEDI                      154350       0.501933\n",
      "NONLIVINGAPARTMENTS_MEDI             213514       0.694330\n",
      "NONLIVINGAREA_MEDI                   169682       0.551792\n",
      "TOTALAREA_MODE                       148431       0.482685 \n",
      "--------------\n",
      "\n"
     ]
    }
   ],
   "source": [
    "see_missing(missing_train)"
   ]
  },
  {
   "cell_type": "code",
   "execution_count": 17,
   "metadata": {
    "scrolled": true
   },
   "outputs": [
    {
     "name": "stdout",
     "output_type": "stream",
     "text": [
      "결측치 10개 미만\n",
      " Empty DataFrame\n",
      "Columns: [missing_count, missing_ratio]\n",
      "Index: [] \n",
      "--------------\n",
      "\n",
      "결측치 100개 미만\n",
      "                           missing_count  missing_ratio\n",
      "AMT_ANNUITY                          24       0.000492\n",
      "OBS_30_CNT_SOCIAL_CIRCLE             29       0.000595\n",
      "DEF_30_CNT_SOCIAL_CIRCLE             29       0.000595\n",
      "OBS_60_CNT_SOCIAL_CIRCLE             29       0.000595\n",
      "DEF_60_CNT_SOCIAL_CIRCLE             29       0.000595 \n",
      "--------------\n",
      "\n",
      "결측치 1000개 미만\n",
      " Empty DataFrame\n",
      "Columns: [missing_count, missing_ratio]\n",
      "Index: [] \n",
      "--------------\n",
      "\n",
      "결측치 10000개 미만\n",
      "                             missing_count  missing_ratio\n",
      "EXT_SOURCE_3                         8668       0.177827\n",
      "AMT_REQ_CREDIT_BUREAU_HOUR           6049       0.124097\n",
      "AMT_REQ_CREDIT_BUREAU_DAY            6049       0.124097\n",
      "AMT_REQ_CREDIT_BUREAU_WEEK           6049       0.124097\n",
      "AMT_REQ_CREDIT_BUREAU_MON            6049       0.124097\n",
      "AMT_REQ_CREDIT_BUREAU_QRT            6049       0.124097\n",
      "AMT_REQ_CREDIT_BUREAU_YEAR           6049       0.124097 \n",
      "--------------\n",
      "\n",
      "결측치 100000개 미만\n",
      "                               missing_count  missing_ratio\n",
      "OWN_CAR_AGE                           32312       0.662892\n",
      "EXT_SOURCE_1                          20532       0.421221\n",
      "APARTMENTS_AVG                        23887       0.490050\n",
      "BASEMENTAREA_AVG                      27641       0.567065\n",
      "YEARS_BEGINEXPLUATATION_AVG           22856       0.468899\n",
      "YEARS_BUILD_AVG                       31818       0.652757\n",
      "COMMONAREA_AVG                        33495       0.687161\n",
      "ELEVATORS_AVG                         25189       0.516761\n",
      "ENTRANCES_AVG                         23579       0.483731\n",
      "FLOORSMAX_AVG                         23321       0.478438\n",
      "FLOORSMIN_AVG                         32466       0.666051\n",
      "LANDAREA_AVG                          28254       0.579641\n",
      "LIVINGAPARTMENTS_AVG                  32780       0.672493\n",
      "LIVINGAREA_AVG                        23552       0.483177\n",
      "NONLIVINGAPARTMENTS_AVG               33347       0.684125\n",
      "NONLIVINGAREA_AVG                     26084       0.535122\n",
      "APARTMENTS_MODE                       23887       0.490050\n",
      "BASEMENTAREA_MODE                     27641       0.567065\n",
      "YEARS_BEGINEXPLUATATION_MODE          22856       0.468899\n",
      "YEARS_BUILD_MODE                      31818       0.652757\n",
      "COMMONAREA_MODE                       33495       0.687161\n",
      "ELEVATORS_MODE                        25189       0.516761\n",
      "ENTRANCES_MODE                        23579       0.483731\n",
      "FLOORSMAX_MODE                        23321       0.478438\n",
      "FLOORSMIN_MODE                        32466       0.666051\n",
      "LANDAREA_MODE                         28254       0.579641\n",
      "LIVINGAPARTMENTS_MODE                 32780       0.672493\n",
      "LIVINGAREA_MODE                       23552       0.483177\n",
      "NONLIVINGAPARTMENTS_MODE              33347       0.684125\n",
      "NONLIVINGAREA_MODE                    26084       0.535122\n",
      "APARTMENTS_MEDI                       23887       0.490050\n",
      "BASEMENTAREA_MEDI                     27641       0.567065\n",
      "YEARS_BEGINEXPLUATATION_MEDI          22856       0.468899\n",
      "YEARS_BUILD_MEDI                      31818       0.652757\n",
      "COMMONAREA_MEDI                       33495       0.687161\n",
      "ELEVATORS_MEDI                        25189       0.516761\n",
      "ENTRANCES_MEDI                        23579       0.483731\n",
      "FLOORSMAX_MEDI                        23321       0.478438\n",
      "FLOORSMIN_MEDI                        32466       0.666051\n",
      "LANDAREA_MEDI                         28254       0.579641\n",
      "LIVINGAPARTMENTS_MEDI                 32780       0.672493\n",
      "LIVINGAREA_MEDI                       23552       0.483177\n",
      "NONLIVINGAPARTMENTS_MEDI              33347       0.684125\n",
      "NONLIVINGAREA_MEDI                    26084       0.535122\n",
      "TOTALAREA_MODE                        22624       0.464139 \n",
      "--------------\n",
      "\n",
      "결측치 100000개 이상\n",
      " Empty DataFrame\n",
      "Columns: [missing_count, missing_ratio]\n",
      "Index: [] \n",
      "--------------\n",
      "\n"
     ]
    }
   ],
   "source": [
    "see_missing(missing_test)"
   ]
  },
  {
   "cell_type": "markdown",
   "metadata": {},
   "source": [
    "분석 결과, 상위 결측치 컬럼 리스트를 자세히 보면.\n",
    "- AMT_REQ_CREDIT_BUREAU~로 되어있는 컬럼의 경우 모두 동일한 열의 갯수만큼 결측치가 발생하고 있음. 참고로, 이 컬럼들은 신청전 1시간/1일/1주일안에 문의 횟수를 보여주고 있음\n",
    "- ~CNT_SOCIAL_CIRCLE 컬럼들 역시 동일한 특징을 보이고 있음. 참고로, 이 컬럼들은 주변 사회구성원(가족/친구/친적) 숫자를 나타내는 것으로 추정됨\n",
    "- 결측치가 100000개 이상인 컬럼들은 대부분 집과 관련된 정보를 담고 있음"
   ]
  },
  {
   "cell_type": "code",
   "execution_count": 18,
   "metadata": {
    "scrolled": false
   },
   "outputs": [
    {
     "data": {
      "text/plain": [
       "count    307511.000000\n",
       "mean      63815.045904\n",
       "std      141275.766519\n",
       "min      -17912.000000\n",
       "25%       -2760.000000\n",
       "50%       -1213.000000\n",
       "75%        -289.000000\n",
       "max      365243.000000\n",
       "Name: DAYS_EMPLOYED, dtype: float64"
      ]
     },
     "execution_count": 18,
     "metadata": {},
     "output_type": "execute_result"
    }
   ],
   "source": [
    "app_train['DAYS_EMPLOYED'].describe()"
   ]
  },
  {
   "cell_type": "code",
   "execution_count": 19,
   "metadata": {},
   "outputs": [
    {
     "data": {
      "text/plain": [
       "count     48744.000000\n",
       "mean      67485.366322\n",
       "std      144348.507136\n",
       "min      -17463.000000\n",
       "25%       -2910.000000\n",
       "50%       -1293.000000\n",
       "75%        -296.000000\n",
       "max      365243.000000\n",
       "Name: DAYS_EMPLOYED, dtype: float64"
      ]
     },
     "execution_count": 19,
     "metadata": {},
     "output_type": "execute_result"
    }
   ],
   "source": [
    "app_test['DAYS_EMPLOYED'].describe()"
   ]
  },
  {
   "cell_type": "markdown",
   "metadata": {},
   "source": [
    "데이터가 주로 음수이고 이상치로 365243이 있는 것을 알 수 있다."
   ]
  },
  {
   "cell_type": "code",
   "execution_count": 20,
   "metadata": {
    "scrolled": false
   },
   "outputs": [
    {
     "data": {
      "image/png": "[encoded data removed]",
      "text/plain": [
       "<Figure size 432x288 with 1 Axes>"
      ]
     },
     "metadata": {
      "needs_background": "light"
     },
     "output_type": "display_data"
    }
   ],
   "source": [
    "# Replace the anomalous values with nan\n",
    "app_train['DAYS_EMPLOYED'].replace({365243: 0}, inplace = True)\n",
    "\n",
    "app_train['DAYS_EMPLOYED'].plot.hist(title = 'Days Employment Histogram');\n",
    "plt.xlabel('Days Employment');"
   ]
  },
  {
   "cell_type": "code",
   "execution_count": 21,
   "metadata": {
    "scrolled": true
   },
   "outputs": [
    {
     "data": {
      "image/png": "[encoded data removed]",
      "text/plain": [
       "<Figure size 432x288 with 1 Axes>"
      ]
     },
     "metadata": {
      "needs_background": "light"
     },
     "output_type": "display_data"
    }
   ],
   "source": [
    "# Create an anomalous flag column\n",
    "app_test['DAYS_EMPLOYED_ANOM'] = app_test[\"DAYS_EMPLOYED\"] == 365243\n",
    "\n",
    "# Replace the anomalous values with nan\n",
    "app_test['DAYS_EMPLOYED'].replace({365243: 0}, inplace = True)\n",
    "\n",
    "app_test['DAYS_EMPLOYED'].plot.hist(title = 'Days Employment Histogram');\n",
    "plt.xlabel('Days Employment');"
   ]
  },
  {
   "cell_type": "code",
   "execution_count": 22,
   "metadata": {},
   "outputs": [],
   "source": [
    "# 나중에 있을 다항 변환을 위해 data를 따로 하나 복사해둔다.\n",
    "app_train_ = app_train\n",
    "app_test_ = app_test"
   ]
  },
  {
   "cell_type": "code",
   "execution_count": 23,
   "metadata": {},
   "outputs": [
    {
     "name": "stdout",
     "output_type": "stream",
     "text": [
      "SK_ID_CURR                                    0\n",
      "OCCUPATION_TYPE_Private service staff         0\n",
      "OCCUPATION_TYPE_Realty agents                 0\n",
      "OCCUPATION_TYPE_Sales staff                   0\n",
      "OCCUPATION_TYPE_Secretaries                   0\n",
      "                                          ...  \n",
      "NONLIVINGAPARTMENTS_MODE                 213514\n",
      "NONLIVINGAPARTMENTS_AVG                  213514\n",
      "COMMONAREA_MODE                          214865\n",
      "COMMONAREA_AVG                           214865\n",
      "COMMONAREA_MEDI                          214865\n",
      "Length: 240, dtype: int64\n"
     ]
    },
    {
     "data": {
      "text/plain": [
       "Index(['DAYS_LAST_PHONE_CHANGE', 'CNT_FAM_MEMBERS', 'AMT_ANNUITY',\n",
       "       'AMT_GOODS_PRICE', 'EXT_SOURCE_2', 'OBS_60_CNT_SOCIAL_CIRCLE',\n",
       "       'DEF_30_CNT_SOCIAL_CIRCLE', 'DEF_60_CNT_SOCIAL_CIRCLE',\n",
       "       'OBS_30_CNT_SOCIAL_CIRCLE', 'AMT_REQ_CREDIT_BUREAU_YEAR',\n",
       "       'AMT_REQ_CREDIT_BUREAU_HOUR', 'AMT_REQ_CREDIT_BUREAU_DAY',\n",
       "       'AMT_REQ_CREDIT_BUREAU_WEEK', 'AMT_REQ_CREDIT_BUREAU_MON',\n",
       "       'AMT_REQ_CREDIT_BUREAU_QRT', 'EXT_SOURCE_3', 'TOTALAREA_MODE',\n",
       "       'YEARS_BEGINEXPLUATATION_MEDI', 'YEARS_BEGINEXPLUATATION_MODE',\n",
       "       'YEARS_BEGINEXPLUATATION_AVG', 'FLOORSMAX_MODE', 'FLOORSMAX_AVG',\n",
       "       'FLOORSMAX_MEDI', 'LIVINGAREA_MODE', 'LIVINGAREA_MEDI',\n",
       "       'LIVINGAREA_AVG', 'ENTRANCES_MEDI', 'ENTRANCES_MODE', 'ENTRANCES_AVG',\n",
       "       'APARTMENTS_AVG', 'APARTMENTS_MEDI', 'APARTMENTS_MODE', 'ELEVATORS_AVG',\n",
       "       'ELEVATORS_MODE', 'ELEVATORS_MEDI', 'NONLIVINGAREA_MODE',\n",
       "       'NONLIVINGAREA_MEDI', 'NONLIVINGAREA_AVG', 'EXT_SOURCE_1',\n",
       "       'BASEMENTAREA_MODE', 'BASEMENTAREA_MEDI', 'BASEMENTAREA_AVG',\n",
       "       'LANDAREA_MEDI', 'LANDAREA_MODE', 'LANDAREA_AVG', 'OWN_CAR_AGE',\n",
       "       'YEARS_BUILD_AVG', 'YEARS_BUILD_MEDI', 'YEARS_BUILD_MODE',\n",
       "       'FLOORSMIN_AVG', 'FLOORSMIN_MODE', 'FLOORSMIN_MEDI',\n",
       "       'LIVINGAPARTMENTS_MODE', 'LIVINGAPARTMENTS_AVG',\n",
       "       'LIVINGAPARTMENTS_MEDI', 'NONLIVINGAPARTMENTS_MEDI',\n",
       "       'NONLIVINGAPARTMENTS_MODE', 'NONLIVINGAPARTMENTS_AVG',\n",
       "       'COMMONAREA_MODE', 'COMMONAREA_AVG', 'COMMONAREA_MEDI'],\n",
       "      dtype='object')"
      ]
     },
     "execution_count": 23,
     "metadata": {},
     "output_type": "execute_result"
    }
   ],
   "source": [
    "isnull = app_train.isnull().sum().sort_values(ascending=True)\n",
    "print(isnull)   # 결측치를 오름순으로 배열해서 isnull을 만들었다.\n",
    "isnull = pd.DataFrame(isnull[isnull[:]>0])   #isnull을 0보다 큰 변수들만 추출\n",
    "isnull.index   # 결측치가 있는 변수들을 확인한다."
   ]
  },
  {
   "cell_type": "code",
   "execution_count": 24,
   "metadata": {
    "scrolled": true
   },
   "outputs": [
    {
     "data": {
      "text/html": [
       "<div>\n",
       "<style scoped>\n",
       "    .dataframe tbody tr th:only-of-type {\n",
       "        vertical-align: middle;\n",
       "    }\n",
       "\n",
       "    .dataframe tbody tr th {\n",
       "        vertical-align: top;\n",
       "    }\n",
       "\n",
       "    .dataframe thead th {\n",
       "        text-align: right;\n",
       "    }\n",
       "</style>\n",
       "<table border=\"1\" class=\"dataframe\">\n",
       "  <thead>\n",
       "    <tr style=\"text-align: right;\">\n",
       "      <th></th>\n",
       "      <th>0</th>\n",
       "    </tr>\n",
       "  </thead>\n",
       "  <tbody>\n",
       "    <tr>\n",
       "      <th>DAYS_LAST_PHONE_CHANGE</th>\n",
       "      <td>1</td>\n",
       "    </tr>\n",
       "    <tr>\n",
       "      <th>CNT_FAM_MEMBERS</th>\n",
       "      <td>2</td>\n",
       "    </tr>\n",
       "    <tr>\n",
       "      <th>AMT_ANNUITY</th>\n",
       "      <td>12</td>\n",
       "    </tr>\n",
       "    <tr>\n",
       "      <th>AMT_GOODS_PRICE</th>\n",
       "      <td>278</td>\n",
       "    </tr>\n",
       "    <tr>\n",
       "      <th>EXT_SOURCE_2</th>\n",
       "      <td>660</td>\n",
       "    </tr>\n",
       "    <tr>\n",
       "      <th>...</th>\n",
       "      <td>...</td>\n",
       "    </tr>\n",
       "    <tr>\n",
       "      <th>NONLIVINGAPARTMENTS_MODE</th>\n",
       "      <td>213514</td>\n",
       "    </tr>\n",
       "    <tr>\n",
       "      <th>NONLIVINGAPARTMENTS_AVG</th>\n",
       "      <td>213514</td>\n",
       "    </tr>\n",
       "    <tr>\n",
       "      <th>COMMONAREA_MODE</th>\n",
       "      <td>214865</td>\n",
       "    </tr>\n",
       "    <tr>\n",
       "      <th>COMMONAREA_AVG</th>\n",
       "      <td>214865</td>\n",
       "    </tr>\n",
       "    <tr>\n",
       "      <th>COMMONAREA_MEDI</th>\n",
       "      <td>214865</td>\n",
       "    </tr>\n",
       "  </tbody>\n",
       "</table>\n",
       "<p>61 rows × 1 columns</p>\n",
       "</div>"
      ],
      "text/plain": [
       "                               0\n",
       "DAYS_LAST_PHONE_CHANGE         1\n",
       "CNT_FAM_MEMBERS                2\n",
       "AMT_ANNUITY                   12\n",
       "AMT_GOODS_PRICE              278\n",
       "EXT_SOURCE_2                 660\n",
       "...                          ...\n",
       "NONLIVINGAPARTMENTS_MODE  213514\n",
       "NONLIVINGAPARTMENTS_AVG   213514\n",
       "COMMONAREA_MODE           214865\n",
       "COMMONAREA_AVG            214865\n",
       "COMMONAREA_MEDI           214865\n",
       "\n",
       "[61 rows x 1 columns]"
      ]
     },
     "execution_count": 24,
     "metadata": {},
     "output_type": "execute_result"
    }
   ],
   "source": [
    "isnull"
   ]
  },
  {
   "cell_type": "markdown",
   "metadata": {},
   "source": [
    "61rows를 통해 결측치가 존재하는 변수의 개수가 61개인 것을 알 수있다."
   ]
  },
  {
   "cell_type": "code",
   "execution_count": 25,
   "metadata": {
    "scrolled": true
   },
   "outputs": [
    {
     "name": "stdout",
     "output_type": "stream",
     "text": [
      "        SK_ID_CURR  NAME_CONTRACT_TYPE  FLAG_OWN_CAR  FLAG_OWN_REALTY  \\\n",
      "0           100002                   0             0                1   \n",
      "1           100003                   0             0                0   \n",
      "2           100004                   1             1                1   \n",
      "3           100006                   0             0                1   \n",
      "4           100007                   0             0                1   \n",
      "...            ...                 ...           ...              ...   \n",
      "307506      456251                   0             0                0   \n",
      "307507      456252                   0             0                1   \n",
      "307508      456253                   0             0                1   \n",
      "307509      456254                   0             0                1   \n",
      "307510      456255                   0             0                0   \n",
      "\n",
      "        CNT_CHILDREN  AMT_INCOME_TOTAL  AMT_CREDIT  AMT_ANNUITY  \\\n",
      "0                  0          202500.0    406597.5      24700.5   \n",
      "1                  0          270000.0   1293502.5      35698.5   \n",
      "2                  0           67500.0    135000.0       6750.0   \n",
      "3                  0          135000.0    312682.5      29686.5   \n",
      "4                  0          121500.0    513000.0      21865.5   \n",
      "...              ...               ...         ...          ...   \n",
      "307506             0          157500.0    254700.0      27558.0   \n",
      "307507             0           72000.0    269550.0      12001.5   \n",
      "307508             0          153000.0    677664.0      29979.0   \n",
      "307509             0          171000.0    370107.0      20205.0   \n",
      "307510             0          157500.0    675000.0      49117.5   \n",
      "\n",
      "        AMT_GOODS_PRICE  REGION_POPULATION_RELATIVE  ...  \\\n",
      "0              351000.0                    0.018801  ...   \n",
      "1             1129500.0                    0.003541  ...   \n",
      "2              135000.0                    0.010032  ...   \n",
      "3              297000.0                    0.008019  ...   \n",
      "4              513000.0                    0.028663  ...   \n",
      "...                 ...                         ...  ...   \n",
      "307506         225000.0                    0.032561  ...   \n",
      "307507         225000.0                    0.025164  ...   \n",
      "307508         585000.0                    0.005002  ...   \n",
      "307509         319500.0                    0.005313  ...   \n",
      "307510         675000.0                    0.046220  ...   \n",
      "\n",
      "        WALLSMATERIAL_MODE_Block  WALLSMATERIAL_MODE_Mixed  \\\n",
      "0                              0                         0   \n",
      "1                              1                         0   \n",
      "2                              0                         0   \n",
      "3                              0                         0   \n",
      "4                              0                         0   \n",
      "...                          ...                       ...   \n",
      "307506                         0                         0   \n",
      "307507                         0                         0   \n",
      "307508                         0                         0   \n",
      "307509                         0                         0   \n",
      "307510                         0                         0   \n",
      "\n",
      "        WALLSMATERIAL_MODE_Monolithic  WALLSMATERIAL_MODE_Others  \\\n",
      "0                                   0                          0   \n",
      "1                                   0                          0   \n",
      "2                                   0                          0   \n",
      "3                                   0                          0   \n",
      "4                                   0                          0   \n",
      "...                               ...                        ...   \n",
      "307506                              0                          0   \n",
      "307507                              0                          0   \n",
      "307508                              0                          0   \n",
      "307509                              0                          0   \n",
      "307510                              0                          0   \n",
      "\n",
      "        WALLSMATERIAL_MODE_Panel  WALLSMATERIAL_MODE_Stone, brick  \\\n",
      "0                              0                                1   \n",
      "1                              0                                0   \n",
      "2                              0                                0   \n",
      "3                              0                                0   \n",
      "4                              0                                0   \n",
      "...                          ...                              ...   \n",
      "307506                         0                                1   \n",
      "307507                         0                                1   \n",
      "307508                         1                                0   \n",
      "307509                         0                                1   \n",
      "307510                         1                                0   \n",
      "\n",
      "        WALLSMATERIAL_MODE_Wooden  EMERGENCYSTATE_MODE_No  \\\n",
      "0                               0                       1   \n",
      "1                               0                       1   \n",
      "2                               0                       0   \n",
      "3                               0                       0   \n",
      "4                               0                       0   \n",
      "...                           ...                     ...   \n",
      "307506                          0                       1   \n",
      "307507                          0                       1   \n",
      "307508                          0                       1   \n",
      "307509                          0                       1   \n",
      "307510                          0                       1   \n",
      "\n",
      "        EMERGENCYSTATE_MODE_Yes  TARGET  \n",
      "0                             0       1  \n",
      "1                             0       0  \n",
      "2                             0       0  \n",
      "3                             0       0  \n",
      "4                             0       0  \n",
      "...                         ...     ...  \n",
      "307506                        0       0  \n",
      "307507                        0       0  \n",
      "307508                        0       0  \n",
      "307509                        0       1  \n",
      "307510                        0       0  \n",
      "\n",
      "[307511 rows x 240 columns]\n"
     ]
    }
   ],
   "source": [
    "print(app_train)\n",
    "# 결측치가 있는 변수를 제거해준다. 데이터 샘플을 제거하고 싶으면 axis=0\n",
    "app_train = app_train.drop(['AMT_GOODS_PRICE', 'EXT_SOURCE_2', 'OBS_60_CNT_SOCIAL_CIRCLE',\n",
    "       'DEF_30_CNT_SOCIAL_CIRCLE', 'DEF_60_CNT_SOCIAL_CIRCLE',\n",
    "       'OBS_30_CNT_SOCIAL_CIRCLE', 'AMT_REQ_CREDIT_BUREAU_YEAR',\n",
    "       'AMT_REQ_CREDIT_BUREAU_HOUR', 'AMT_REQ_CREDIT_BUREAU_DAY',\n",
    "       'AMT_REQ_CREDIT_BUREAU_WEEK', 'AMT_REQ_CREDIT_BUREAU_MON',\n",
    "       'AMT_REQ_CREDIT_BUREAU_QRT', 'EXT_SOURCE_3', 'TOTALAREA_MODE',\n",
    "       'YEARS_BEGINEXPLUATATION_MEDI', 'YEARS_BEGINEXPLUATATION_MODE',\n",
    "       'YEARS_BEGINEXPLUATATION_AVG', 'FLOORSMAX_MODE', 'FLOORSMAX_AVG',\n",
    "       'FLOORSMAX_MEDI', 'LIVINGAREA_MODE', 'LIVINGAREA_MEDI',\n",
    "       'LIVINGAREA_AVG', 'ENTRANCES_MEDI', 'ENTRANCES_MODE', 'ENTRANCES_AVG',\n",
    "       'APARTMENTS_AVG', 'APARTMENTS_MEDI', 'APARTMENTS_MODE', 'ELEVATORS_AVG',\n",
    "       'ELEVATORS_MODE', 'ELEVATORS_MEDI', 'NONLIVINGAREA_MODE',\n",
    "       'NONLIVINGAREA_MEDI', 'NONLIVINGAREA_AVG', 'EXT_SOURCE_1',\n",
    "       'BASEMENTAREA_MODE', 'BASEMENTAREA_MEDI', 'BASEMENTAREA_AVG',\n",
    "       'LANDAREA_MEDI', 'LANDAREA_MODE', 'LANDAREA_AVG', 'OWN_CAR_AGE',\n",
    "       'YEARS_BUILD_AVG', 'YEARS_BUILD_MEDI', 'YEARS_BUILD_MODE',\n",
    "       'FLOORSMIN_AVG', 'FLOORSMIN_MODE', 'FLOORSMIN_MEDI',\n",
    "       'LIVINGAPARTMENTS_MODE', 'LIVINGAPARTMENTS_AVG',\n",
    "       'LIVINGAPARTMENTS_MEDI', 'NONLIVINGAPARTMENTS_MEDI',\n",
    "       'NONLIVINGAPARTMENTS_MODE', 'NONLIVINGAPARTMENTS_AVG',\n",
    "       'COMMONAREA_MODE', 'COMMONAREA_AVG', 'COMMONAREA_MEDI'],axis=1)"
   ]
  },
  {
   "cell_type": "code",
   "execution_count": 26,
   "metadata": {},
   "outputs": [],
   "source": [
    "app_train = app_train.dropna()"
   ]
  },
  {
   "cell_type": "markdown",
   "metadata": {},
   "source": [
    "뭐 굳이 결측값이 있는 변수의 이름을 다 입력할 필요 없이 dropna() method를 사용하면 간단하게 처리가 된다.  \n",
    "__중요한 점은 현재 변수의 개수가 너무 많아 다중공선성 문제가 발생하고 모델링 학습에 시간이 많이 걸리므로 변수를 핵심적인 eigen-vector 몇 개만 남기는 pca를 적용시키기 위해서 결측치를 다 제거해야 한다.__"
   ]
  },
  {
   "cell_type": "code",
   "execution_count": 27,
   "metadata": {},
   "outputs": [
    {
     "data": {
      "text/plain": [
       "SK_ID_CURR                              0\n",
       "ORGANIZATION_TYPE_Electricity           0\n",
       "ORGANIZATION_TYPE_Emergency             0\n",
       "ORGANIZATION_TYPE_Government            0\n",
       "ORGANIZATION_TYPE_Hotel                 0\n",
       "                                       ..\n",
       "NAME_INCOME_TYPE_Student                0\n",
       "NAME_INCOME_TYPE_Unemployed             0\n",
       "NAME_INCOME_TYPE_Working                0\n",
       "NAME_EDUCATION_TYPE_Higher education    0\n",
       "TARGET                                  0\n",
       "Length: 182, dtype: int64"
      ]
     },
     "execution_count": 27,
     "metadata": {},
     "output_type": "execute_result"
    }
   ],
   "source": [
    "app_train.isnull().sum().sort_values(ascending=True)"
   ]
  },
  {
   "cell_type": "code",
   "execution_count": 28,
   "metadata": {},
   "outputs": [],
   "source": [
    "app_test = app_test.drop(['AMT_GOODS_PRICE', 'EXT_SOURCE_2', 'OBS_60_CNT_SOCIAL_CIRCLE',\n",
    "       'DEF_30_CNT_SOCIAL_CIRCLE', 'DEF_60_CNT_SOCIAL_CIRCLE',\n",
    "       'OBS_30_CNT_SOCIAL_CIRCLE', 'AMT_REQ_CREDIT_BUREAU_YEAR',\n",
    "       'AMT_REQ_CREDIT_BUREAU_HOUR', 'AMT_REQ_CREDIT_BUREAU_DAY',\n",
    "       'AMT_REQ_CREDIT_BUREAU_WEEK', 'AMT_REQ_CREDIT_BUREAU_MON',\n",
    "       'AMT_REQ_CREDIT_BUREAU_QRT', 'EXT_SOURCE_3', 'TOTALAREA_MODE',\n",
    "       'YEARS_BEGINEXPLUATATION_MEDI', 'YEARS_BEGINEXPLUATATION_MODE',\n",
    "       'YEARS_BEGINEXPLUATATION_AVG', 'FLOORSMAX_MODE', 'FLOORSMAX_AVG',\n",
    "       'FLOORSMAX_MEDI', 'LIVINGAREA_MODE', 'LIVINGAREA_MEDI',\n",
    "       'LIVINGAREA_AVG', 'ENTRANCES_MEDI', 'ENTRANCES_MODE', 'ENTRANCES_AVG',\n",
    "       'APARTMENTS_AVG', 'APARTMENTS_MEDI', 'APARTMENTS_MODE', 'ELEVATORS_AVG',\n",
    "       'ELEVATORS_MODE', 'ELEVATORS_MEDI', 'NONLIVINGAREA_MODE',\n",
    "       'NONLIVINGAREA_MEDI', 'NONLIVINGAREA_AVG', 'EXT_SOURCE_1',\n",
    "       'BASEMENTAREA_MODE', 'BASEMENTAREA_MEDI', 'BASEMENTAREA_AVG',\n",
    "       'LANDAREA_MEDI', 'LANDAREA_MODE', 'LANDAREA_AVG', 'OWN_CAR_AGE',\n",
    "       'YEARS_BUILD_AVG', 'YEARS_BUILD_MEDI', 'YEARS_BUILD_MODE',\n",
    "       'FLOORSMIN_AVG', 'FLOORSMIN_MODE', 'FLOORSMIN_MEDI',\n",
    "       'LIVINGAPARTMENTS_MODE', 'LIVINGAPARTMENTS_AVG',\n",
    "       'LIVINGAPARTMENTS_MEDI', 'NONLIVINGAPARTMENTS_MEDI',\n",
    "       'NONLIVINGAPARTMENTS_MODE', 'NONLIVINGAPARTMENTS_AVG',\n",
    "       'COMMONAREA_MODE', 'COMMONAREA_AVG', 'COMMONAREA_MEDI'],axis=1)"
   ]
  },
  {
   "cell_type": "code",
   "execution_count": 29,
   "metadata": {},
   "outputs": [],
   "source": [
    "app_test=app_test.dropna()"
   ]
  },
  {
   "cell_type": "code",
   "execution_count": 30,
   "metadata": {},
   "outputs": [
    {
     "data": {
      "text/plain": [
       "SK_ID_CURR                              0\n",
       "ORGANIZATION_TYPE_Electricity           0\n",
       "ORGANIZATION_TYPE_Emergency             0\n",
       "ORGANIZATION_TYPE_Government            0\n",
       "ORGANIZATION_TYPE_Hotel                 0\n",
       "                                       ..\n",
       "NAME_INCOME_TYPE_Student                0\n",
       "NAME_INCOME_TYPE_Unemployed             0\n",
       "NAME_INCOME_TYPE_Working                0\n",
       "NAME_EDUCATION_TYPE_Higher education    0\n",
       "DAYS_EMPLOYED_ANOM                      0\n",
       "Length: 182, dtype: int64"
      ]
     },
     "execution_count": 30,
     "metadata": {},
     "output_type": "execute_result"
    }
   ],
   "source": [
    "app_test.isnull().sum().sort_values(ascending=True)"
   ]
  },
  {
   "cell_type": "code",
   "execution_count": 31,
   "metadata": {},
   "outputs": [
    {
     "name": "stdout",
     "output_type": "stream",
     "text": [
      "0         -637\n",
      "1        -1188\n",
      "2         -225\n",
      "3        -3039\n",
      "4        -3038\n",
      "          ... \n",
      "307506    -236\n",
      "307507       0\n",
      "307508   -7921\n",
      "307509   -4786\n",
      "307510   -1262\n",
      "Name: DAYS_EMPLOYED, Length: 307496, dtype: int64 0         -637\n",
      "1        -1188\n",
      "2         -225\n",
      "3        -3039\n",
      "4        -3038\n",
      "          ... \n",
      "307506    -236\n",
      "307507       0\n",
      "307508   -7921\n",
      "307509   -4786\n",
      "307510   -1262\n",
      "Name: DAYS_EMPLOYED, Length: 307496, dtype: int64 0        -1134.0\n",
      "1         -828.0\n",
      "2         -815.0\n",
      "3         -617.0\n",
      "4        -1106.0\n",
      "           ...  \n",
      "307506    -273.0\n",
      "307507       0.0\n",
      "307508   -1909.0\n",
      "307509    -322.0\n",
      "307510    -787.0\n",
      "Name: DAYS_LAST_PHONE_CHANGE, Length: 307496, dtype: float64\n"
     ]
    }
   ],
   "source": [
    "# Find the correlation of the positive days since birth and target\n",
    "print(app_train['DAYS_EMPLOYED'], app_train['DAYS_EMPLOYED'], app_train['DAYS_LAST_PHONE_CHANGE'])\n",
    "app_train['DAYS_BIRTH'] = abs(app_train_['DAYS_BIRTH'])   # DAYS_BIRTH의 값이 음수여서 양으로 바꿔줬다.\n",
    "app_train['DAYS_EMPLOYED'] = abs(app_train['DAYS_EMPLOYED'])   # DAYS_EMPLOYED도 마찬가지\n",
    "app_train['DAYS_LAST_PHONE_CHANGE'] = abs(app_train['DAYS_LAST_PHONE_CHANGE'])"
   ]
  },
  {
   "cell_type": "code",
   "execution_count": 32,
   "metadata": {},
   "outputs": [
    {
     "name": "stdout",
     "output_type": "stream",
     "text": [
      "0       -19241\n",
      "1       -18064\n",
      "2       -20038\n",
      "3       -13976\n",
      "4       -13040\n",
      "         ...  \n",
      "48739   -19970\n",
      "48740   -11186\n",
      "48741   -15922\n",
      "48742   -13968\n",
      "48743   -13962\n",
      "Name: DAYS_BIRTH, Length: 48720, dtype: int64 0       -2329\n",
      "1       -4469\n",
      "2       -4458\n",
      "3       -1866\n",
      "4       -2191\n",
      "         ... \n",
      "48739   -5169\n",
      "48740   -1149\n",
      "48741   -3037\n",
      "48742   -2731\n",
      "48743    -633\n",
      "Name: DAYS_EMPLOYED, Length: 48720, dtype: int64 0       -1740.0\n",
      "1           0.0\n",
      "2        -856.0\n",
      "3       -1805.0\n",
      "4        -821.0\n",
      "          ...  \n",
      "48739    -684.0\n",
      "48740       0.0\n",
      "48741    -838.0\n",
      "48742   -2308.0\n",
      "48743    -327.0\n",
      "Name: DAYS_LAST_PHONE_CHANGE, Length: 48720, dtype: float64\n"
     ]
    }
   ],
   "source": [
    "# Find the correlation of the positive days since birth and target\n",
    "print(app_test['DAYS_BIRTH'], app_test['DAYS_EMPLOYED'], app_test['DAYS_LAST_PHONE_CHANGE'])\n",
    "app_test['DAYS_BIRTH'] = abs(app_test['DAYS_BIRTH'])\n",
    "app_test['DAYS_EMPLOYED'] = abs(app_test['DAYS_EMPLOYED'])\n",
    "app_test['DAYS_LAST_PHONE_CHANGE'] = abs(app_test['DAYS_LAST_PHONE_CHANGE'])"
   ]
  },
  {
   "cell_type": "code",
   "execution_count": 33,
   "metadata": {},
   "outputs": [
    {
     "name": "stdout",
     "output_type": "stream",
     "text": [
      "0         0.067329\n",
      "1         0.070862\n",
      "2         0.011814\n",
      "3         0.159905\n",
      "4         0.152418\n",
      "            ...   \n",
      "307506    0.025303\n",
      "307507    0.000000\n",
      "307508    0.529266\n",
      "307509    0.400134\n",
      "307510    0.074869\n",
      "Name: DAYS_EMPLOYED_PERCENT, Length: 307496, dtype: float64\n"
     ]
    }
   ],
   "source": [
    "app_train['CREDIT_INCOME_PERCENT'] = app_train['AMT_CREDIT'] / app_train['AMT_INCOME_TOTAL']\n",
    "app_train['ANNUITY_INCOME_PERCENT'] = app_train['AMT_ANNUITY'] / app_train['AMT_INCOME_TOTAL']\n",
    "app_train['CREDIT_TERM'] = app_train['AMT_ANNUITY'] / app_train['AMT_CREDIT']\n",
    "app_train['DAYS_EMPLOYED_PERCENT'] = app_train['DAYS_EMPLOYED'] / app_train['DAYS_BIRTH']\n",
    "print(app_train['DAYS_EMPLOYED_PERCENT'])"
   ]
  },
  {
   "cell_type": "code",
   "execution_count": 34,
   "metadata": {},
   "outputs": [],
   "source": [
    "app_test['CREDIT_INCOME_PERCENT'] = app_test['AMT_CREDIT'] / app_test['AMT_INCOME_TOTAL']\n",
    "app_test['ANNUITY_INCOME_PERCENT'] = app_test['AMT_ANNUITY'] / app_test['AMT_INCOME_TOTAL']\n",
    "app_test['CREDIT_TERM'] = app_test['AMT_ANNUITY'] / app_test['AMT_CREDIT']\n",
    "app_test['DAYS_EMPLOYED_PERCENT'] = app_test['DAYS_EMPLOYED'] / app_test['DAYS_BIRTH']"
   ]
  },
  {
   "cell_type": "markdown",
   "metadata": {},
   "source": [
    "'CREDIT_INCOME_PERCENT'변수는 소득 대비 외상(빚)의 비율을 나타내고  \n",
    "'ANNUITY_INCOME_PERCENT'변수는 소득대비 연금의 비율을 나타낸다.  \n",
    "'CREDIT_TERM' 변수는 외상 대비 연금의 비율을 나타내며\n",
    "'DAYS_EMPLOYED_PERCENT' 변수는 태어난 이래로 고용되어 일한 지표를 나타냈으며 이를 통해 신용도에 영향을 미치는 정도를 더 정확하게 보고자 하는 의도로 새로운 변수를 만들었다."
   ]
  },
  {
   "cell_type": "markdown",
   "metadata": {},
   "source": [
    "annuity같은 경우 일반적으로 알고 있는 pension과는 다르다고 할 수 있다. pension의 경우 은퇴를 해야 하는 사람들에게 고용주가 부담하는 퇴직 기금에서 일정액을 정해진 기간 동안 지급하는 것이다. annuity같은 경우, 투자 소득의 정기적인 장기 분할 지급을 의미하여 개인의 자발적인 투자로 일정 기간 정기적으로 원리금을 받는 것이다. 앞으로 금융 시장은 일찍 죽는 위험이 아닌 오래 사는 위험을 대비하는 흐름으로 변할 것이다. 그러므로 미국 금융 시장 또한 개인의 신용도를 노후 대비 재정설계를 통해서 측정하고자 하는 것이다."
   ]
  },
  {
   "cell_type": "code",
   "execution_count": 35,
   "metadata": {},
   "outputs": [
    {
     "data": {
      "text/plain": [
       "0         1\n",
       "1         1\n",
       "2         1\n",
       "3         1\n",
       "4         1\n",
       "         ..\n",
       "307506    1\n",
       "307507    1\n",
       "307508    1\n",
       "307509    1\n",
       "307510    1\n",
       "Name: FLAG_MOBIL, Length: 307496, dtype: int64"
      ]
     },
     "execution_count": 35,
     "metadata": {},
     "output_type": "execute_result"
    }
   ],
   "source": [
    "app_train['FLAG_MOBIL']"
   ]
  },
  {
   "cell_type": "markdown",
   "metadata": {},
   "source": [
    "Q. 'FLAG_MOBIL'은 어떤 데이터일까?  \n",
    "아마 스마트 폰 사용 유무에 대한 것을 표현하는 변수인 것으로 추측했다."
   ]
  },
  {
   "cell_type": "code",
   "execution_count": 36,
   "metadata": {},
   "outputs": [
    {
     "name": "stdout",
     "output_type": "stream",
     "text": [
      "Most Positive Correlations:\n",
      " LIVE_CITY_NOT_WORK_CITY                              0.032528\n",
      "DAYS_REGISTRATION                                    0.041977\n",
      "OCCUPATION_TYPE_Laborers                             0.043018\n",
      "FLAG_DOCUMENT_3                                      0.044342\n",
      "REG_CITY_NOT_LIVE_CITY                               0.044405\n",
      "FLAG_EMP_PHONE                                       0.045989\n",
      "NAME_EDUCATION_TYPE_Secondary / secondary special    0.049814\n",
      "REG_CITY_NOT_WORK_CITY                               0.051002\n",
      "DAYS_ID_PUBLISH                                      0.051462\n",
      "CODE_GENDER_M                                        0.054716\n",
      "NAME_INCOME_TYPE_Working                             0.057481\n",
      "REGION_RATING_CLIENT                                 0.058892\n",
      "REGION_RATING_CLIENT_W_CITY                          0.060886\n",
      "TARGET                                               1.000000\n",
      "FLAG_MOBIL                                                NaN\n",
      "Name: TARGET, dtype: float64\n",
      "\n",
      "Most Negative Correlations:\n",
      " DAYS_BIRTH                             -0.078248\n",
      "NAME_EDUCATION_TYPE_Higher education   -0.056589\n",
      "DAYS_LAST_PHONE_CHANGE                 -0.055221\n",
      "CODE_GENDER_F                          -0.054707\n",
      "NAME_INCOME_TYPE_Pensioner             -0.046217\n",
      "DAYS_EMPLOYED                          -0.046053\n",
      "ORGANIZATION_TYPE_XNA                  -0.045994\n",
      "EMERGENCYSTATE_MODE_No                 -0.042202\n",
      "HOUSETYPE_MODE_block of flats          -0.040594\n",
      "REGION_POPULATION_RELATIVE             -0.037218\n",
      "DAYS_EMPLOYED_PERCENT                  -0.036342\n",
      "WALLSMATERIAL_MODE_Panel               -0.033118\n",
      "NAME_CONTRACT_TYPE                     -0.030895\n",
      "AMT_CREDIT                             -0.030371\n",
      "FLAG_DOCUMENT_6                        -0.028607\n",
      "Name: TARGET, dtype: float64\n"
     ]
    }
   ],
   "source": [
    "# Find correlations with the target and sort\n",
    "correlations = app_train.corr()['TARGET'].sort_values()   # 상관행렬을 구하고 상관행렬에서 'TARGET'열을 추출했다.\n",
    "\n",
    "# Display correlations\n",
    "print('Most Positive Correlations:\\n', correlations.tail(15))\n",
    "print('\\nMost Negative Correlations:\\n', correlations.head(15))"
   ]
  },
  {
   "cell_type": "markdown",
   "metadata": {},
   "source": [
    "## 전처리한 데이터(데이터1)"
   ]
  },
  {
   "cell_type": "code",
   "execution_count": 37,
   "metadata": {},
   "outputs": [],
   "source": [
    "# train data와 test data 세트1 생성\n",
    "kg1_train_t = app_train['TARGET']\n",
    "kg1_train_f = app_train.drop(['TARGET'], axis=1)\n",
    "kg1_test_f = app_test"
   ]
  },
  {
   "cell_type": "markdown",
   "metadata": {},
   "source": [
    "결측치를 처리한 train data와 test data에서 kg1_train_t, kg1_train_f, kg1_train_f를 생성. t는 target, f는 features를 의미."
   ]
  },
  {
   "cell_type": "code",
   "execution_count": 46,
   "metadata": {},
   "outputs": [
    {
     "data": {
      "text/plain": [
       "Index(['SK_ID_CURR', 'NAME_CONTRACT_TYPE', 'FLAG_OWN_CAR', 'FLAG_OWN_REALTY',\n",
       "       'CNT_CHILDREN', 'AMT_INCOME_TOTAL', 'AMT_CREDIT', 'AMT_ANNUITY',\n",
       "       'REGION_POPULATION_RELATIVE', 'DAYS_BIRTH',\n",
       "       ...\n",
       "       'WALLSMATERIAL_MODE_Others', 'WALLSMATERIAL_MODE_Panel',\n",
       "       'WALLSMATERIAL_MODE_Stone, brick', 'WALLSMATERIAL_MODE_Wooden',\n",
       "       'EMERGENCYSTATE_MODE_No', 'EMERGENCYSTATE_MODE_Yes',\n",
       "       'CREDIT_INCOME_PERCENT', 'ANNUITY_INCOME_PERCENT', 'CREDIT_TERM',\n",
       "       'DAYS_EMPLOYED_PERCENT'],\n",
       "      dtype='object', length=185)"
      ]
     },
     "execution_count": 46,
     "metadata": {},
     "output_type": "execute_result"
    }
   ],
   "source": [
    "kg1_train_f.columns.unique()"
   ]
  },
  {
   "cell_type": "markdown",
   "metadata": {},
   "source": [
    "## PCA 적용(데이터2)"
   ]
  },
  {
   "cell_type": "code",
   "execution_count": 50,
   "metadata": {
    "scrolled": false
   },
   "outputs": [
    {
     "name": "stdout",
     "output_type": "stream",
     "text": [
      "(307496, 5)\n"
     ]
    }
   ],
   "source": [
    "pca1 = PCA(n_components=5)\n",
    "\n",
    "# pca를 적용하기 전 feature-scailing을 적용\n",
    "ss = StandardScaler()\n",
    "kg1_train_f_scaled = ss.fit_transform(kg1_train_f)\n",
    "\n",
    "#fit( )과 transform( ) 을 호출하여 train과 test 데이터의 feature 반환\n",
    "data_pca_train_f = pca1.fit_transform(kg1_train_f_scaled)\n",
    "\n",
    "print(data_pca_train_f.shape)"
   ]
  },
  {
   "cell_type": "markdown",
   "metadata": {},
   "source": [
    "캐글에 제출하지 않고 train 데이터 내에서 모델 성능을 검증할 것이므로 train만 pca를 했다."
   ]
  },
  {
   "cell_type": "code",
   "execution_count": 51,
   "metadata": {},
   "outputs": [
    {
     "name": "stdout",
     "output_type": "stream",
     "text": [
      "[0.03357735 0.02123625 0.0190612  0.01730199 0.0146148 ]\n"
     ]
    }
   ],
   "source": [
    "print(pca1.explained_variance_ratio_)"
   ]
  },
  {
   "cell_type": "code",
   "execution_count": 52,
   "metadata": {
    "scrolled": false
   },
   "outputs": [
    {
     "data": {
      "text/plain": [
       "0.10579158973259756"
      ]
     },
     "execution_count": 52,
     "metadata": {},
     "output_type": "execute_result"
    }
   ],
   "source": [
    "pca1.explained_variance_ratio_.sum()"
   ]
  },
  {
   "cell_type": "markdown",
   "metadata": {},
   "source": [
    "- pca로 변환한 5개의 변수가 186개 변수의 99.99%를 설명할 수 있어 5개의 변수만 선택했다."
   ]
  },
  {
   "cell_type": "code",
   "execution_count": 53,
   "metadata": {
    "scrolled": true
   },
   "outputs": [
    {
     "data": {
      "text/html": [
       "<div>\n",
       "<style scoped>\n",
       "    .dataframe tbody tr th:only-of-type {\n",
       "        vertical-align: middle;\n",
       "    }\n",
       "\n",
       "    .dataframe tbody tr th {\n",
       "        vertical-align: top;\n",
       "    }\n",
       "\n",
       "    .dataframe thead th {\n",
       "        text-align: right;\n",
       "    }\n",
       "</style>\n",
       "<table border=\"1\" class=\"dataframe\">\n",
       "  <thead>\n",
       "    <tr style=\"text-align: right;\">\n",
       "      <th></th>\n",
       "      <th>0</th>\n",
       "      <th>1</th>\n",
       "      <th>2</th>\n",
       "      <th>3</th>\n",
       "      <th>4</th>\n",
       "    </tr>\n",
       "  </thead>\n",
       "  <tbody>\n",
       "    <tr>\n",
       "      <th>0</th>\n",
       "      <td>0.772302</td>\n",
       "      <td>1.218167</td>\n",
       "      <td>-2.306983</td>\n",
       "      <td>-1.210414</td>\n",
       "      <td>-1.654414</td>\n",
       "    </tr>\n",
       "    <tr>\n",
       "      <th>1</th>\n",
       "      <td>0.443543</td>\n",
       "      <td>3.620134</td>\n",
       "      <td>2.744844</td>\n",
       "      <td>-0.434434</td>\n",
       "      <td>1.697814</td>\n",
       "    </tr>\n",
       "    <tr>\n",
       "      <th>2</th>\n",
       "      <td>0.287572</td>\n",
       "      <td>-1.815587</td>\n",
       "      <td>-3.106962</td>\n",
       "      <td>-0.845172</td>\n",
       "      <td>-1.062920</td>\n",
       "    </tr>\n",
       "    <tr>\n",
       "      <th>3</th>\n",
       "      <td>0.152840</td>\n",
       "      <td>-1.494973</td>\n",
       "      <td>-0.406002</td>\n",
       "      <td>-1.495385</td>\n",
       "      <td>0.138635</td>\n",
       "    </tr>\n",
       "    <tr>\n",
       "      <th>4</th>\n",
       "      <td>1.086756</td>\n",
       "      <td>-1.603711</td>\n",
       "      <td>-1.548001</td>\n",
       "      <td>0.971691</td>\n",
       "      <td>0.668518</td>\n",
       "    </tr>\n",
       "    <tr>\n",
       "      <th>...</th>\n",
       "      <td>...</td>\n",
       "      <td>...</td>\n",
       "      <td>...</td>\n",
       "      <td>...</td>\n",
       "      <td>...</td>\n",
       "    </tr>\n",
       "    <tr>\n",
       "      <th>307491</th>\n",
       "      <td>0.972487</td>\n",
       "      <td>2.659985</td>\n",
       "      <td>-4.154795</td>\n",
       "      <td>-0.973257</td>\n",
       "      <td>0.480097</td>\n",
       "    </tr>\n",
       "    <tr>\n",
       "      <th>307492</th>\n",
       "      <td>-5.411039</td>\n",
       "      <td>1.011498</td>\n",
       "      <td>-0.889997</td>\n",
       "      <td>-1.297598</td>\n",
       "      <td>-0.185321</td>\n",
       "    </tr>\n",
       "    <tr>\n",
       "      <th>307493</th>\n",
       "      <td>1.520308</td>\n",
       "      <td>1.331372</td>\n",
       "      <td>1.966560</td>\n",
       "      <td>-2.895390</td>\n",
       "      <td>0.345175</td>\n",
       "    </tr>\n",
       "    <tr>\n",
       "      <th>307494</th>\n",
       "      <td>1.669080</td>\n",
       "      <td>-0.098005</td>\n",
       "      <td>-0.449525</td>\n",
       "      <td>-1.412159</td>\n",
       "      <td>0.099190</td>\n",
       "    </tr>\n",
       "    <tr>\n",
       "      <th>307495</th>\n",
       "      <td>1.682871</td>\n",
       "      <td>3.151826</td>\n",
       "      <td>0.013850</td>\n",
       "      <td>1.703089</td>\n",
       "      <td>2.536003</td>\n",
       "    </tr>\n",
       "  </tbody>\n",
       "</table>\n",
       "<p>307496 rows × 5 columns</p>\n",
       "</div>"
      ],
      "text/plain": [
       "               0         1         2         3         4\n",
       "0       0.772302  1.218167 -2.306983 -1.210414 -1.654414\n",
       "1       0.443543  3.620134  2.744844 -0.434434  1.697814\n",
       "2       0.287572 -1.815587 -3.106962 -0.845172 -1.062920\n",
       "3       0.152840 -1.494973 -0.406002 -1.495385  0.138635\n",
       "4       1.086756 -1.603711 -1.548001  0.971691  0.668518\n",
       "...          ...       ...       ...       ...       ...\n",
       "307491  0.972487  2.659985 -4.154795 -0.973257  0.480097\n",
       "307492 -5.411039  1.011498 -0.889997 -1.297598 -0.185321\n",
       "307493  1.520308  1.331372  1.966560 -2.895390  0.345175\n",
       "307494  1.669080 -0.098005 -0.449525 -1.412159  0.099190\n",
       "307495  1.682871  3.151826  0.013850  1.703089  2.536003\n",
       "\n",
       "[307496 rows x 5 columns]"
      ]
     },
     "execution_count": 53,
     "metadata": {},
     "output_type": "execute_result"
    }
   ],
   "source": [
    "pd.DataFrame(data_pca_train)"
   ]
  },
  {
   "cell_type": "code",
   "execution_count": 56,
   "metadata": {},
   "outputs": [],
   "source": [
    "kg2_train_f = data_pca_train"
   ]
  },
  {
   "cell_type": "code",
   "execution_count": 57,
   "metadata": {},
   "outputs": [
    {
     "name": "stdout",
     "output_type": "stream",
     "text": [
      "(307496, 5)\n"
     ]
    }
   ],
   "source": [
    "print(kg2_train_f.shape)"
   ]
  },
  {
   "cell_type": "code",
   "execution_count": 58,
   "metadata": {},
   "outputs": [],
   "source": [
    "kg2_train_t = kg1_train_t"
   ]
  },
  {
   "cell_type": "markdown",
   "metadata": {},
   "source": [
    "Ho2_train_t(target)을 Ho1_train_t로 하는 이유는 target 값은 0과 1밖에 나타내지 않아 결과가 동일하기 때문이다. 우리가 하고 있는 것은 pca를 통해 새로 만들어낸 변수가 target data에 어떤 영향을 미치는가를 확인하는 것. 그러므로 target의 값은 변하지 않는다."
   ]
  },
  {
   "cell_type": "code",
   "execution_count": 59,
   "metadata": {},
   "outputs": [
    {
     "name": "stdout",
     "output_type": "stream",
     "text": [
      "(307496,)\n"
     ]
    }
   ],
   "source": [
    "print(kg2_train_t.shape)"
   ]
  },
  {
   "cell_type": "markdown",
   "metadata": {},
   "source": [
    "Q. DAY_BIRTH 변수가 무엇을 의미하는가? 단순히 생후 지난 일수인 것 같은데 음수가 나와 이유를 모르겠다."
   ]
  },
  {
   "cell_type": "markdown",
   "metadata": {},
   "source": [
    "## 다항 변환(데이터3)\n",
    "다항 변환을 했을 경우의 예: $x_1, x_2 -> 1, x_1, x_2, x_1^2, x_2^2, x_1x_2, x_1^3, x_2^3, x_1^2x_2^1, x_1x_2^2$\n",
    "실제 반응 변수 y 값을 예측하기 위해 비선형 함수를 만들어 데이터의 정보를 쥐어짜내는 방식."
   ]
  },
  {
   "cell_type": "code",
   "execution_count": 60,
   "metadata": {},
   "outputs": [],
   "source": [
    "# 다항 변수를 만들어 보자\n",
    "poly_features = app_train_[['EXT_SOURCE_1', 'EXT_SOURCE_2', 'EXT_SOURCE_3', 'DAYS_BIRTH', 'TARGET']]\n",
    "poly_features_test = app_test_[['EXT_SOURCE_1', 'EXT_SOURCE_2', 'EXT_SOURCE_3', 'DAYS_BIRTH']]\n",
    "\n",
    "imputer = SimpleImputer(strategy = 'median')   # 결측치 중앙값으로 입력\n",
    "\n",
    "poly_target = poly_features['TARGET']\n",
    "poly_features = poly_features.drop(columns = ['TARGET'])\n",
    "\n",
    "# Need to impute missing values\n",
    "poly_features = imputer.fit_transform(poly_features)\n",
    "poly_features_test = imputer.transform(poly_features_test)\n",
    "                                  \n",
    "# Create the polynomial object with specified degree\n",
    "poly_transformer = PolynomialFeatures(degree = 3)   # 3차 다항식으로 변환"
   ]
  },
  {
   "cell_type": "code",
   "execution_count": 61,
   "metadata": {},
   "outputs": [
    {
     "name": "stdout",
     "output_type": "stream",
     "text": [
      "DAYS_BIRTH                             -0.078248\n",
      "NAME_EDUCATION_TYPE_Higher education   -0.056589\n",
      "DAYS_LAST_PHONE_CHANGE                 -0.055221\n",
      "CODE_GENDER_F                          -0.054707\n",
      "NAME_INCOME_TYPE_Pensioner             -0.046217\n",
      "                                          ...   \n",
      "NAME_INCOME_TYPE_Working                0.057481\n",
      "REGION_RATING_CLIENT                    0.058892\n",
      "REGION_RATING_CLIENT_W_CITY             0.060886\n",
      "TARGET                                  1.000000\n",
      "FLAG_MOBIL                                   NaN\n",
      "Name: TARGET, Length: 186, dtype: float64\n"
     ]
    }
   ],
   "source": [
    "corr = app_train.corr()['TARGET'].sort_values()\n",
    "print(corr)"
   ]
  },
  {
   "cell_type": "code",
   "execution_count": 62,
   "metadata": {},
   "outputs": [
    {
     "name": "stdout",
     "output_type": "stream",
     "text": [
      "Polynomial Features shape:  (307511, 35)\n",
      "Polynomial Features test shape:  (48744, 35)\n"
     ]
    }
   ],
   "source": [
    "# Train the polynomial features\n",
    "poly_transformer.fit(poly_features)   # poly_features의 변수를 3차 다항식으로 변환하는 것이다.\n",
    "\n",
    "# Transform the features\n",
    "poly_features = poly_transformer.transform(poly_features)\n",
    "poly_features_test = poly_transformer.transform(poly_features_test)\n",
    "print('Polynomial Features shape: ', poly_features.shape)\n",
    "print('Polynomial Features test shape: ', poly_features_test.shape)"
   ]
  },
  {
   "cell_type": "code",
   "execution_count": 63,
   "metadata": {},
   "outputs": [
    {
     "data": {
      "text/plain": [
       "['1',\n",
       " 'EXT_SOURCE_1',\n",
       " 'EXT_SOURCE_2',\n",
       " 'EXT_SOURCE_3',\n",
       " 'DAYS_BIRTH',\n",
       " 'EXT_SOURCE_1^2',\n",
       " 'EXT_SOURCE_1 EXT_SOURCE_2',\n",
       " 'EXT_SOURCE_1 EXT_SOURCE_3',\n",
       " 'EXT_SOURCE_1 DAYS_BIRTH',\n",
       " 'EXT_SOURCE_2^2',\n",
       " 'EXT_SOURCE_2 EXT_SOURCE_3',\n",
       " 'EXT_SOURCE_2 DAYS_BIRTH',\n",
       " 'EXT_SOURCE_3^2',\n",
       " 'EXT_SOURCE_3 DAYS_BIRTH',\n",
       " 'DAYS_BIRTH^2',\n",
       " 'EXT_SOURCE_1^3',\n",
       " 'EXT_SOURCE_1^2 EXT_SOURCE_2',\n",
       " 'EXT_SOURCE_1^2 EXT_SOURCE_3',\n",
       " 'EXT_SOURCE_1^2 DAYS_BIRTH',\n",
       " 'EXT_SOURCE_1 EXT_SOURCE_2^2',\n",
       " 'EXT_SOURCE_1 EXT_SOURCE_2 EXT_SOURCE_3',\n",
       " 'EXT_SOURCE_1 EXT_SOURCE_2 DAYS_BIRTH',\n",
       " 'EXT_SOURCE_1 EXT_SOURCE_3^2',\n",
       " 'EXT_SOURCE_1 EXT_SOURCE_3 DAYS_BIRTH',\n",
       " 'EXT_SOURCE_1 DAYS_BIRTH^2',\n",
       " 'EXT_SOURCE_2^3',\n",
       " 'EXT_SOURCE_2^2 EXT_SOURCE_3',\n",
       " 'EXT_SOURCE_2^2 DAYS_BIRTH',\n",
       " 'EXT_SOURCE_2 EXT_SOURCE_3^2',\n",
       " 'EXT_SOURCE_2 EXT_SOURCE_3 DAYS_BIRTH',\n",
       " 'EXT_SOURCE_2 DAYS_BIRTH^2',\n",
       " 'EXT_SOURCE_3^3',\n",
       " 'EXT_SOURCE_3^2 DAYS_BIRTH',\n",
       " 'EXT_SOURCE_3 DAYS_BIRTH^2',\n",
       " 'DAYS_BIRTH^3']"
      ]
     },
     "execution_count": 63,
     "metadata": {},
     "output_type": "execute_result"
    }
   ],
   "source": [
    "poly_transformer.get_feature_names(input_features = ['EXT_SOURCE_1', 'EXT_SOURCE_2', 'EXT_SOURCE_3', 'DAYS_BIRTH'])   # 변수이름 입력"
   ]
  },
  {
   "cell_type": "code",
   "execution_count": 64,
   "metadata": {
    "scrolled": true
   },
   "outputs": [
    {
     "name": "stdout",
     "output_type": "stream",
     "text": [
      "EXT_SOURCE_2 EXT_SOURCE_3                -0.193939\n",
      "EXT_SOURCE_1 EXT_SOURCE_2 EXT_SOURCE_3   -0.189605\n",
      "EXT_SOURCE_2^2 EXT_SOURCE_3              -0.176428\n",
      "EXT_SOURCE_2 EXT_SOURCE_3^2              -0.172282\n",
      "EXT_SOURCE_1 EXT_SOURCE_2                -0.166625\n",
      "EXT_SOURCE_1 EXT_SOURCE_3                -0.164065\n",
      "EXT_SOURCE_2                             -0.160295\n",
      "EXT_SOURCE_1 EXT_SOURCE_2^2              -0.156867\n",
      "EXT_SOURCE_3                             -0.155892\n",
      "EXT_SOURCE_1 EXT_SOURCE_3^2              -0.150822\n",
      "Name: TARGET, dtype: float64\n",
      "EXT_SOURCE_1 EXT_SOURCE_2 DAYS_BIRTH    0.155891\n",
      "EXT_SOURCE_2 DAYS_BIRTH                 0.156873\n",
      "EXT_SOURCE_2 EXT_SOURCE_3 DAYS_BIRTH    0.181283\n",
      "TARGET                                  1.000000\n",
      "1                                            NaN\n",
      "Name: TARGET, dtype: float64\n"
     ]
    }
   ],
   "source": [
    "# Create a dataframe of the features \n",
    "poly_features = pd.DataFrame(poly_features, \n",
    "                             columns = poly_transformer.get_feature_names(['EXT_SOURCE_1', 'EXT_SOURCE_2', \n",
    "                                                                           'EXT_SOURCE_3', 'DAYS_BIRTH']))\n",
    "\n",
    "# Add in the target\n",
    "poly_features['TARGET'] = poly_target   # target을 왜 추가했을까? 밑에 코드 돌릴라고\n",
    "\n",
    "# Find the correlations with the target\n",
    "poly_corrs = poly_features.corr()['TARGET'].sort_values()  \n",
    "\n",
    "# Display most negative and most positive\n",
    "print(poly_corrs.head(10))\n",
    "print(poly_corrs.tail(5))"
   ]
  },
  {
   "cell_type": "markdown",
   "metadata": {},
   "source": [
    "상관행렬을 통해 TARGET 변수와 상관계수를 확인해보니 이전보다 높은 상관성을 가진 변수들이 생성이 됐음을 알 수 있다."
   ]
  },
  {
   "cell_type": "code",
   "execution_count": 65,
   "metadata": {},
   "outputs": [
    {
     "name": "stdout",
     "output_type": "stream",
     "text": [
      "(307511, 37)\n",
      "(48744, 36)\n",
      "Training data with polynomial features shape:  (307496, 220)\n",
      "Testing data with polynomial features shape:   (48720, 220)\n",
      "        SK_ID_CURR  NAME_CONTRACT_TYPE  FLAG_OWN_CAR  FLAG_OWN_REALTY  \\\n",
      "0           100002                   0             0                1   \n",
      "1           100003                   0             0                0   \n",
      "2           100004                   1             1                1   \n",
      "3           100006                   0             0                1   \n",
      "4           100007                   0             0                1   \n",
      "...            ...                 ...           ...              ...   \n",
      "307491      456251                   0             0                0   \n",
      "307492      456252                   0             0                1   \n",
      "307493      456253                   0             0                1   \n",
      "307494      456254                   0             0                1   \n",
      "307495      456255                   0             0                0   \n",
      "\n",
      "        CNT_CHILDREN  AMT_INCOME_TOTAL  AMT_CREDIT  AMT_ANNUITY  \\\n",
      "0                  0          202500.0    406597.5      24700.5   \n",
      "1                  0          270000.0   1293502.5      35698.5   \n",
      "2                  0           67500.0    135000.0       6750.0   \n",
      "3                  0          135000.0    312682.5      29686.5   \n",
      "4                  0          121500.0    513000.0      21865.5   \n",
      "...              ...               ...         ...          ...   \n",
      "307491             0          157500.0    254700.0      27558.0   \n",
      "307492             0           72000.0    269550.0      12001.5   \n",
      "307493             0          153000.0    677664.0      29979.0   \n",
      "307494             0          171000.0    370107.0      20205.0   \n",
      "307495             0          157500.0    675000.0      49117.5   \n",
      "\n",
      "        REGION_POPULATION_RELATIVE  DAYS_BIRTH_x  ...  EXT_SOURCE_2^3  \\\n",
      "0                         0.018801          9461  ...        0.018181   \n",
      "1                         0.003541         16765  ...        0.240927   \n",
      "2                         0.010032         19046  ...        0.171798   \n",
      "3                         0.008019         19005  ...        0.275185   \n",
      "4                         0.028663         19932  ...        0.033616   \n",
      "...                            ...           ...  ...             ...   \n",
      "307491                    0.032561          9327  ...        0.316702   \n",
      "307492                    0.025164         20775  ...        0.001561   \n",
      "307493                    0.005002         14966  ...        0.153751   \n",
      "307494                    0.005313         11961  ...        0.135926   \n",
      "307495                    0.046220         16856  ...        0.355751   \n",
      "\n",
      "        EXT_SOURCE_2^2 EXT_SOURCE_3  EXT_SOURCE_2^2 DAYS_BIRTH  \\\n",
      "0                          0.009637                -654.152107   \n",
      "1                          0.207254               -6491.237078   \n",
      "2                          0.225464               -5885.942404   \n",
      "3                          0.226462               -8040.528832   \n",
      "4                          0.055754               -2076.117157   \n",
      "...                             ...                        ...   \n",
      "307491                     0.248701               -4333.535804   \n",
      "307492                     0.007202                -279.510194   \n",
      "307493                     0.062812               -4295.209004   \n",
      "307494                     0.174750               -3162.050698   \n",
      "307495                     0.057197               -8462.889915   \n",
      "\n",
      "        EXT_SOURCE_2 EXT_SOURCE_3^2  EXT_SOURCE_2 EXT_SOURCE_3 DAYS_BIRTH  \\\n",
      "0                          0.005108                           -346.733022   \n",
      "1                          0.178286                          -5583.975307   \n",
      "2                          0.295894                          -7724.580288   \n",
      "3                          0.186365                          -6616.894625   \n",
      "4                          0.092471                          -3443.335521   \n",
      "...                             ...                                   ...   \n",
      "307491                     0.195302                          -3403.064320   \n",
      "307492                     0.033234                          -1289.874083   \n",
      "307493                     0.025661                          -1754.727146   \n",
      "307494                     0.224665                          -4065.229651   \n",
      "307495                     0.009196                          -1360.647784   \n",
      "\n",
      "        EXT_SOURCE_2 DAYS_BIRTH^2  EXT_SOURCE_3^3  EXT_SOURCE_3^2 DAYS_BIRTH  \\\n",
      "0                    2.353667e+07        0.002707                -183.785678   \n",
      "1                    1.748916e+08        0.153368               -4803.518937   \n",
      "2                    2.016572e+08        0.388325              -10137.567875   \n",
      "3                    2.349331e+08        0.153368               -5445.325225   \n",
      "4                    1.282190e+08        0.153368               -5710.929881   \n",
      "...                           ...             ...                        ...   \n",
      "307491               5.929720e+07        0.153368               -2672.378236   \n",
      "307492               5.006225e+07        0.153368               -5952.466801   \n",
      "307493               1.199916e+08        0.010483                -716.860892   \n",
      "307494               7.355897e+07        0.288836               -5226.384299   \n",
      "307495               2.013220e+08        0.001479                -218.762433   \n",
      "\n",
      "        EXT_SOURCE_3 DAYS_BIRTH^2  DAYS_BIRTH^3  \n",
      "0                    1.247560e+07 -8.468590e+11  \n",
      "1                    1.504475e+08 -4.712058e+12  \n",
      "2                    2.646504e+08 -6.908939e+12  \n",
      "3                    1.933364e+08 -6.864416e+12  \n",
      "4                    2.126570e+08 -7.918677e+12  \n",
      "...                           ...           ...  \n",
      "307491               4.656525e+07 -8.113830e+11  \n",
      "307492               2.310256e+08 -8.966503e+12  \n",
      "307493               4.902031e+07 -3.352102e+12  \n",
      "307494               9.456968e+07 -1.711207e+12  \n",
      "307495               3.236817e+07 -4.789207e+12  \n",
      "\n",
      "[307496 rows x 220 columns]        SK_ID_CURR  NAME_CONTRACT_TYPE  FLAG_OWN_CAR  FLAG_OWN_REALTY  \\\n",
      "0          100001                   0             0                1   \n",
      "1          100005                   0             0                1   \n",
      "2          100013                   0             1                1   \n",
      "3          100028                   0             0                1   \n",
      "4          100038                   0             1                0   \n",
      "...           ...                 ...           ...              ...   \n",
      "48715      456221                   0             0                1   \n",
      "48716      456222                   0             0                0   \n",
      "48717      456223                   0             1                1   \n",
      "48718      456224                   0             0                0   \n",
      "48719      456250                   0             1                0   \n",
      "\n",
      "       CNT_CHILDREN  AMT_INCOME_TOTAL  AMT_CREDIT  AMT_ANNUITY  \\\n",
      "0                 0          135000.0    568800.0      20560.5   \n",
      "1                 0           99000.0    222768.0      17370.0   \n",
      "2                 0          202500.0    663264.0      69777.0   \n",
      "3                 2          315000.0   1575000.0      49018.5   \n",
      "4                 1          180000.0    625500.0      32067.0   \n",
      "...             ...               ...         ...          ...   \n",
      "48715             0          121500.0    412560.0      17473.5   \n",
      "48716             2          157500.0    622413.0      31909.5   \n",
      "48717             1          202500.0    315000.0      33205.5   \n",
      "48718             0          225000.0    450000.0      25128.0   \n",
      "48719             0          135000.0    312768.0      24709.5   \n",
      "\n",
      "       REGION_POPULATION_RELATIVE  DAYS_BIRTH_x  ...  EXT_SOURCE_2^3  \\\n",
      "0                        0.018850         19241  ...        0.492392   \n",
      "1                        0.035792         18064  ...        0.024809   \n",
      "2                        0.019101         20038  ...        0.342687   \n",
      "3                        0.026392         13976  ...        0.132399   \n",
      "4                        0.010032         13040  ...        0.077139   \n",
      "...                           ...           ...  ...             ...   \n",
      "48715                    0.002042         19970  ...        0.272823   \n",
      "48716                    0.035792         11186  ...        0.320850   \n",
      "48717                    0.026392         15922  ...        0.253359   \n",
      "48718                    0.018850         13968  ...        0.088538   \n",
      "48719                    0.006629         13962  ...        0.095156   \n",
      "\n",
      "       EXT_SOURCE_2^2 EXT_SOURCE_3  EXT_SOURCE_2^2 DAYS_BIRTH  \\\n",
      "0                         0.099469              -11997.802403   \n",
      "1                         0.036829               -1536.577117   \n",
      "2                         0.299203               -9812.640816   \n",
      "3                         0.159163               -3630.555667   \n",
      "4                         0.096997               -2362.974127   \n",
      "...                            ...                        ...   \n",
      "48715                     0.270488               -8400.368742   \n",
      "48716                     0.250869               -5242.555692   \n",
      "48717                     0.113597               -6375.125880   \n",
      "48718                     0.118287               -2774.734348   \n",
      "48719                     0.056721               -2910.091018   \n",
      "\n",
      "       EXT_SOURCE_2 EXT_SOURCE_3^2  EXT_SOURCE_2 EXT_SOURCE_3 DAYS_BIRTH  \\\n",
      "0                         0.020094                          -2423.698322   \n",
      "1                         0.054673                          -2281.043619   \n",
      "2                         0.261238                          -8567.521115   \n",
      "3                         0.191336                          -4364.443591   \n",
      "4                         0.121968                          -2971.298294   \n",
      "...                            ...                                   ...   \n",
      "48715                     0.268174                          -8328.493414   \n",
      "48716                     0.196151                          -4099.084854   \n",
      "48717                     0.050933                          -2858.384957   \n",
      "48718                     0.158031                          -3707.043157   \n",
      "48719                     0.033810                          -1734.640191   \n",
      "\n",
      "       EXT_SOURCE_2 DAYS_BIRTH^2  EXT_SOURCE_3^3  EXT_SOURCE_3^2 DAYS_BIRTH  \\\n",
      "0                   2.923427e+08        0.004059                -489.615795   \n",
      "1                   9.516956e+07        0.081161               -3386.201665   \n",
      "2                   2.809794e+08        0.228089               -7480.393855   \n",
      "3                   9.955450e+07        0.230013               -5246.681115   \n",
      "4                   7.238455e+07        0.153368               -3736.229463   \n",
      "...                          ...             ...                        ...   \n",
      "48715               2.586523e+08        0.265879               -8257.233066   \n",
      "48716               8.566112e+07        0.153368               -3205.020151   \n",
      "48717               1.604135e+08        0.022837               -1281.600508   \n",
      "48718               8.695850e+07        0.211130               -4952.607075   \n",
      "48719               8.899687e+07        0.020153               -1033.980235   \n",
      "\n",
      "       EXT_SOURCE_3 DAYS_BIRTH^2  DAYS_BIRTH^3  \n",
      "0                   5.905670e+07 -7.123328e+12  \n",
      "1                   1.412789e+08 -5.894429e+12  \n",
      "2                   2.453261e+08 -8.045687e+12  \n",
      "3                   1.196786e+08 -2.729912e+12  \n",
      "4                   9.101923e+07 -2.217342e+12  \n",
      "...                          ...           ...  \n",
      "48715               2.564392e+08 -7.964054e+12  \n",
      "48716               6.697730e+07 -1.399666e+12  \n",
      "48717               7.192382e+07 -4.036388e+12  \n",
      "48718               1.161765e+08 -2.725227e+12  \n",
      "48719               5.304904e+07 -2.721717e+12  \n",
      "\n",
      "[48720 rows x 220 columns]\n"
     ]
    }
   ],
   "source": [
    "# Put test features into dataframe\n",
    "poly_features_test = pd.DataFrame(poly_features_test, \n",
    "                                  columns = poly_transformer.get_feature_names(['EXT_SOURCE_1', 'EXT_SOURCE_2', \n",
    "                                                                                'EXT_SOURCE_3', 'DAYS_BIRTH']))\n",
    "\n",
    "# Merge polynomial features into training dataframe\n",
    "poly_features['SK_ID_CURR'] = app_train['SK_ID_CURR']   # .merge method를 사용하기 위해 기준이 필요해 추가해준 것.\n",
    "print(poly_features.shape)   # poly_features의 행렬을 파악하기 위해서 shape method 사용.\n",
    "app_train_poly = app_train.merge(poly_features, on = 'SK_ID_CURR', how = 'left')   # 'SK_ID_CURR을 기준으로 app_train 왼쪽에 poly_features 병합'\n",
    "\n",
    "# Merge polnomial features into testing dataframe\n",
    "poly_features_test['SK_ID_CURR'] = app_test['SK_ID_CURR']\n",
    "print(poly_features_test.shape)\n",
    "app_test_poly = app_test.merge(poly_features_test, on = 'SK_ID_CURR', how = 'left')\n",
    "\n",
    "# Align the dataframes\n",
    "app_train_poly, app_test_poly = app_train_poly.align(app_test_poly, join = 'inner', axis = 1)   # .align method를 통해서 app_train_poly 자료 내의 target 변수 제거\n",
    "\n",
    "# Print out the new shapes\n",
    "print('Training data with polynomial features shape: ', app_train_poly.shape)\n",
    "print('Testing data with polynomial features shape:  ', app_test_poly.shape)\n",
    "print(app_train_poly, app_test_poly)"
   ]
  },
  {
   "cell_type": "code",
   "execution_count": 66,
   "metadata": {},
   "outputs": [],
   "source": [
    "kg3_train_f = app_train_poly\n",
    "kg3_train_t = kg1_train_t\n",
    "kg3_test_f = app_test_poly"
   ]
  },
  {
   "cell_type": "markdown",
   "metadata": {},
   "source": [
    "### 결측치 대체\n",
    "누락된 값은 변수의 중앙값으로 대체하겠다."
   ]
  },
  {
   "cell_type": "code",
   "execution_count": 68,
   "metadata": {
    "scrolled": true
   },
   "outputs": [],
   "source": [
    "# Median imputation of missing values\n",
    "imputer1 = SimpleImputer(strategy = 'median')  # 결측치를 중앙값으로 대체하는 객체 생성.\n",
    "imputer2 = SimpleImputer(strategy = 'median')\n",
    "imputer3 = SimpleImputer(strategy = 'median')\n",
    "\n",
    "# Fit on the training data\n",
    "imputer1.fit(kg1_train_f)   # 결측치를 처리하지 않은 데이터를 중앙값으로 대체해준다.\n",
    "imputer2.fit(kg2_train_f)\n",
    "imputer3.fit(kg3_train_f)\n",
    "\n",
    "# Transform both training and testing data\n",
    "kg1_train_f = imputer1.transform(kg1_train_f)\n",
    "\n",
    "kg2_train_f = imputer2.transform(kg2_train_f)\n",
    "\n",
    "kg3_train_f = imputer3.transform(kg3_train_f)\n",
    "\n",
    "kg1_train_f, kg1_test_f, kg1_train_t, kg1_test_t = train_test_split(kg1_train_f, kg1_train_t, random_state=1)\n",
    "kg2_train_f, kg2_test_f, kg2_train_t, kg2_test_t = train_test_split(kg2_train_f, kg2_train_t, random_state=2)\n",
    "kg3_train_f, kg3_test_f, kg3_train_t, kg3_test_t = train_test_split(kg3_train_f, kg3_train_t, random_state=3)"
   ]
  },
  {
   "cell_type": "markdown",
   "metadata": {},
   "source": [
    "# 모델링"
   ]
  },
  {
   "cell_type": "markdown",
   "metadata": {},
   "source": [
    "## Decision Tree\n",
    "- 의사 결정 트리는 분류 기술 중에서 가장 일반적으로 사용되는 알고리즘\n",
    "- 사용 이유: 데이터를 분석하여 이들 사이에 존재하는 패턴을 예측 가능한 규칙들의 조합으로 나타내기 위해 사용.\n",
    "- 원리: Decision Tree는 한번 분기 때마다 변수 영역을 두 개로 구분하는 모델. 데이터를 구분한 뒤 각 영역의 순도(homogeneity)가 증가, 불순도(impurity) 혹은 불확실성(uncertainty)이 최대한 감소하도록 하는 방향으로 학습을 진행한다.(불순도 지표로 쓰이는 지니 계수는 당연히 낮아져야 한다.)\n",
    "- 장점: \n",
    "    - 계산 비용이 적다\n",
    "    - 학습된 결과를 사람이 이해하기 쉬우며 누락된 값이 있어도 처리할 수 있다.\n",
    "    - 분류와 관련이 없는 속성이 있어도 처리할 수 있다.\n",
    "- 단점:\n",
    "    - overfitting되기 쉽다."
   ]
  },
  {
   "cell_type": "code",
   "execution_count": 69,
   "metadata": {
    "scrolled": true
   },
   "outputs": [
    {
     "name": "stdout",
     "output_type": "stream",
     "text": [
      "0.9187371543044462\n",
      "0.9194786273642584\n",
      "0.920103025730416\n"
     ]
    }
   ],
   "source": [
    "decision_tree1 = DecisionTreeClassifier(max_depth=1, random_state=1)  # 밑의 GridSearchCV를 참고해서 max_depth를 1로 설정함.\n",
    "decision_tree2 = DecisionTreeClassifier(max_depth=1, random_state=2)\n",
    "decision_tree3 = DecisionTreeClassifier(max_depth=1, random_state=3)\n",
    "\n",
    "decision_tree1.fit(kg1_train_f, kg1_train_t)\n",
    "decision_tree2.fit(kg2_train_f, kg2_train_t)\n",
    "decision_tree3.fit(kg3_train_f, kg3_train_t)\n",
    "\n",
    "\n",
    "decision_tree1_pred = decision_tree1.predict(kg1_test_f)\n",
    "decision_tree2_pred = decision_tree2.predict(kg2_test_f)\n",
    "decision_tree3_pred = decision_tree3.predict(kg3_test_f)\n",
    "\n",
    "dt_accuracy1 = accuracy_score(kg1_test_t, decision_tree1_pred)\n",
    "dt_accuracy2 = accuracy_score(kg2_test_t, decision_tree2_pred)\n",
    "dt_accuracy3 = accuracy_score(kg3_test_t, decision_tree3_pred)\n",
    "\n",
    "print(dt_accuracy1)\n",
    "print(dt_accuracy2)\n",
    "print(dt_accuracy3)"
   ]
  },
  {
   "cell_type": "code",
   "execution_count": 70,
   "metadata": {
    "scrolled": true
   },
   "outputs": [
    {
     "name": "stdout",
     "output_type": "stream",
     "text": [
      "최적의 하이퍼 파라미터와 정확도: {'max_depth': 1} 0.9194439386322577\n",
      "최적의 하이퍼 파라미터와 정확도: {'max_depth': 1} 0.919196780870419\n",
      "최적의 하이퍼 파라미터와 정확도: {'max_depth': 1} 0.9189886481568831\n"
     ]
    }
   ],
   "source": [
    "decision_tree1 = DecisionTreeClassifier(random_state=1)\n",
    "decision_tree2 = DecisionTreeClassifier(random_state=2)\n",
    "decision_tree3 = DecisionTreeClassifier(random_state=3)\n",
    "\n",
    "params = {'max_depth' : [1,3,5]}\n",
    "\n",
    "grid_cv1 = GridSearchCV(decision_tree1, param_grid=params, scoring='accuracy', cv=5)\n",
    "grid_cv2 = GridSearchCV(decision_tree2, param_grid=params, scoring='accuracy', cv=5)\n",
    "grid_cv3 = GridSearchCV(decision_tree3, param_grid=params, scoring='accuracy', cv=5)\n",
    "\n",
    "grid_cv1.fit(kg1_train_f, kg1_train_t)\n",
    "grid_cv2.fit(kg2_train_f, kg2_train_t)\n",
    "grid_cv3.fit(kg3_train_f, kg3_train_t)\n",
    "\n",
    "\n",
    "print('최적의 하이퍼 파라미터와 정확도:', grid_cv1.best_params_, grid_cv1.best_score_)\n",
    "print('최적의 하이퍼 파라미터와 정확도:', grid_cv2.best_params_, grid_cv2.best_score_)\n",
    "print('최적의 하이퍼 파라미터와 정확도:', grid_cv3.best_params_, grid_cv3.best_score_)"
   ]
  },
  {
   "cell_type": "markdown",
   "metadata": {},
   "source": [
    "데이터의 비선형성 패턴을 여러 개 잡아내는 것을 고려한 DT가 max값 1이 나왔다는 것은 데이터가 복잡하지 않고 선형성을 띄운다는 것을 의미. 오차항이 정규분포를 따를 확률이 높다(랜덤이다)."
   ]
  },
  {
   "cell_type": "markdown",
   "metadata": {},
   "source": [
    "## Random Forest"
   ]
  },
  {
   "cell_type": "markdown",
   "metadata": {},
   "source": [
    "- 정의: 여러 의사 결정 나무를 생성한 후에 다수결 또는 평균에 따라 출력 변수를 예측하는 알고리즘.  \n",
    "(즉 의사 결정 나무와 bagging을 혼합한 형태라고 볼 수 있습니다.)\n",
    "- 사용 이유: 일반적으로 결정 트리를 이용한 방법의 경우, 그 결과 또는 성능의 변동 폭이 크다는 결점을 가지고 있다. 특히 학습 데이터에 따라 생성되는 결정 트리의 성능이 다르기 때문에 일반화하여 사용하기 어렵다.\n",
    "- 원리: 주어진 train data set에서 무작위로 중복을 허용해 데이터 n개 추출(bootstrap). → 선택한 데이터에서 중복 허용없이 d개 선택. → d개의 데이터를 통해 decision tree를 학습하고 생성. → 이를 k번 반복하고 decision tree를 k개 생성. → k개의 decision tree를 통해 예측하고 다수결이나 결과의 평균을 선택해서 최종 예측값으로 결정.\n",
    "- 장점:\n",
    "    - 예측의 변동성 감소\n",
    "    - 과적합을 방지\n",
    "    - 결측치의 비율이 높아져도 높은 정확도를 보인다.\n",
    "    - 변수의 중요성을 파악 가능\n",
    "- 단점:\n",
    "    - 데이터의 수가 많아지면 의사 결정나무에 비해 속도가 크게 떨어짐\n",
    "    - 결과에 대한 해석이 어렵다."
   ]
  },
  {
   "cell_type": "code",
   "execution_count": 71,
   "metadata": {
    "scrolled": true
   },
   "outputs": [
    {
     "name": "stdout",
     "output_type": "stream",
     "text": [
      "0.9187501626037412\n",
      "0.9193355360720139\n",
      "0.9201550589275959\n"
     ]
    }
   ],
   "source": [
    "random_forest1 = RandomForestClassifier(n_estimators = 100, random_state = 1, n_jobs = -1)\n",
    "random_forest2 = RandomForestClassifier(n_estimators = 100, random_state = 2, n_jobs = -1)\n",
    "random_forest3 = RandomForestClassifier(n_estimators = 100, random_state = 3, n_jobs = -1)\n",
    "\n",
    "random_forest1.fit(kg1_train_f, kg1_train_t)\n",
    "random_forest2.fit(kg2_train_f, kg2_train_t)\n",
    "random_forest3.fit(kg3_train_f, kg3_train_t)\n",
    "\n",
    "random_forest1_pred = random_forest1.predict(kg1_test_f)\n",
    "random_forest2_pred = random_forest2.predict(kg2_test_f)\n",
    "random_forest3_pred = random_forest3.predict(kg3_test_f)\n",
    "\n",
    "rf_accuracy1 = accuracy_score(kg1_test_t, random_forest1_pred)\n",
    "rf_accuracy2 = accuracy_score(kg2_test_t, random_forest2_pred)\n",
    "rf_accuracy3 = accuracy_score(kg3_test_t, random_forest3_pred)\n",
    "\n",
    "print(rf_accuracy1)\n",
    "print(rf_accuracy2)\n",
    "print(rf_accuracy3)"
   ]
  },
  {
   "cell_type": "code",
   "execution_count": 72,
   "metadata": {
    "scrolled": true
   },
   "outputs": [
    {
     "name": "stdout",
     "output_type": "stream",
     "text": [
      "최적의 하이퍼 파라미터와 정확도: {'max_depth': 1} 0.9194439386322577\n",
      "최적의 하이퍼 파라미터와 정확도: {'max_depth': 1} 0.919196780870419\n",
      "최적의 하이퍼 파라미터와 정확도: {'max_depth': 1} 0.9189886481568831\n"
     ]
    }
   ],
   "source": [
    "random_forest1 = RandomForestClassifier(n_estimators = 100, random_state = 1, n_jobs = -1)\n",
    "random_forest2 = RandomForestClassifier(n_estimators = 100, random_state = 2, n_jobs = -1)\n",
    "random_forest3 = RandomForestClassifier(n_estimators = 100, random_state = 3, n_jobs = -1)\n",
    "\n",
    "params = {'max_depth' : [1,3,5]}\n",
    "\n",
    "grid_cv1 = GridSearchCV(random_forest1, param_grid=params, scoring='accuracy', cv=5)\n",
    "grid_cv2 = GridSearchCV(random_forest2, param_grid=params, scoring='accuracy', cv=5)\n",
    "grid_cv3 = GridSearchCV(random_forest3, param_grid=params, scoring='accuracy', cv=5)\n",
    "\n",
    "grid_cv1.fit(kg1_train_f, kg1_train_t)\n",
    "grid_cv2.fit(kg2_train_f, kg2_train_t)\n",
    "grid_cv3.fit(kg3_train_f, kg3_train_t)\n",
    "\n",
    "print('최적의 하이퍼 파라미터와 정확도:', grid_cv1.best_params_, grid_cv1.best_score_)\n",
    "print('최적의 하이퍼 파라미터와 정확도:', grid_cv2.best_params_, grid_cv2.best_score_)\n",
    "print('최적의 하이퍼 파라미터와 정확도:', grid_cv3.best_params_, grid_cv3.best_score_)"
   ]
  },
  {
   "cell_type": "markdown",
   "metadata": {},
   "source": [
    "DT와 마찬가지의 최적 파라미터 결과가 나왔다."
   ]
  },
  {
   "cell_type": "markdown",
   "metadata": {},
   "source": [
    "## Gradient Boosting Machine\n",
    "- 정의: 가중치 업데이트를 gradient descent를 이용해 학습하는 알고리즘 기반의 모델\n",
    "- 사용 이유: \n",
    "- 원리: 정확도가 낮더라도 일단 모델을 만들고, 드러난 약점(예측 오류)은 두 번째 모델이 보완한다. 이 둘을 합치면 처음보다는 정확한 모델이 만들어지고, 그럼에도 여전히 남아 있는 문제는 다음 모델에서 보완하여 계속 더하는 과정을 반복하는 원리\n",
    "- 장점: \n",
    "    - 랜덤포레스트보다는 예측 성능이 (조금) 뛰어나다.\n",
    "- 단점:\n",
    "    - 수행 시간이 오래 걸림\n",
    "    - 하이퍼 파라미터 튜닝 필요\n",
    "    - 멀티 CPU 코어 시스템을 사용해도 병렬 처리가 지원되지 않아 학습에 많은 시간이 필요."
   ]
  },
  {
   "cell_type": "code",
   "execution_count": 73,
   "metadata": {},
   "outputs": [
    {
     "name": "stdout",
     "output_type": "stream",
     "text": [
      "0.9187241460051513\n",
      "0.9194526107656685\n",
      "0.920116034029711\n"
     ]
    }
   ],
   "source": [
    "gradient_boost1 = GradientBoostingClassifier(random_state=1)\n",
    "gradient_boost2 = GradientBoostingClassifier(random_state=2)\n",
    "gradient_boost3 = GradientBoostingClassifier(random_state=3)\n",
    "\n",
    "gradient_boost1.fit(kg1_train_f, kg1_train_t)\n",
    "gradient_boost2.fit(kg2_train_f, kg2_train_t)\n",
    "gradient_boost3.fit(kg3_train_f, kg3_train_t)\n",
    "\n",
    "gradient_boost1_pred = gradient_boost1.predict(kg1_test_f)\n",
    "gradient_boost2_pred = gradient_boost2.predict(kg2_test_f)\n",
    "gradient_boost3_pred = gradient_boost3.predict(kg3_test_f)\n",
    "\n",
    "gb_accuracy1 = accuracy_score(kg1_test_t, gradient_boost1_pred)\n",
    "gb_accuracy2 = accuracy_score(kg2_test_t, gradient_boost2_pred)\n",
    "gb_accuracy3 = accuracy_score(kg3_test_t, gradient_boost3_pred)\n",
    "\n",
    "print(gb_accuracy1)\n",
    "print(gb_accuracy2)\n",
    "print(gb_accuracy3)"
   ]
  },
  {
   "cell_type": "markdown",
   "metadata": {},
   "source": [
    "### LightGBM\n",
    "- 정의: 리프 중심 트리분할 방식을 사용한 GBM 기반의 모델\n",
    "- 사용 목적: 기존의 boosting 알고리즘인 gbm과 xgboost는 성능 대비 학습 시간이 느리다는 단점이 존재. 또한 하이퍼 파라미터가 많아 튜닝을 위한 시간이 많이 필요한데 이를 보완해주기 위해 lightGBM 사용\n",
    "- 원리: 리프 중심 트리분할(Leaf Wise) 방식을 사용. 따라서 트리의 균형을 맞추지 않고 최대 손실 값을 가지는 리프 노드를 지속적으로 분할해 예측 오류 손실을 최소화 하는 것\n",
    "- 장점: \n",
    "    - 빠른 학습 속도와 높은 효율성\n",
    "    - 기존 GBM보다 적은 메모리 사용\n",
    "    - 더욱 복잡한 모델을 만들어 정확도를 높일 수 있다.\n",
    "    - GPU 사용 가능\n",
    "- 단점:\n",
    "    - 적은 데이터 세트의 적용일 경우 과적합 가능성이 큼"
   ]
  },
  {
   "cell_type": "code",
   "execution_count": 74,
   "metadata": {},
   "outputs": [
    {
     "name": "stdout",
     "output_type": "stream",
     "text": [
      "[1]\tvalid_0's binary_logloss: 0.27962\n",
      "Training until validation scores don't improve for 100 rounds\n",
      "[2]\tvalid_0's binary_logloss: 0.277847\n",
      "[3]\tvalid_0's binary_logloss: 0.276489\n",
      "[4]\tvalid_0's binary_logloss: 0.275144\n",
      "[5]\tvalid_0's binary_logloss: 0.274055\n",
      "[6]\tvalid_0's binary_logloss: 0.273138\n",
      "[7]\tvalid_0's binary_logloss: 0.272317\n",
      "[8]\tvalid_0's binary_logloss: 0.271532\n",
      "[9]\tvalid_0's binary_logloss: 0.27088\n",
      "[10]\tvalid_0's binary_logloss: 0.270207\n",
      "[11]\tvalid_0's binary_logloss: 0.269649\n",
      "[12]\tvalid_0's binary_logloss: 0.269139\n",
      "[13]\tvalid_0's binary_logloss: 0.268736\n",
      "[14]\tvalid_0's binary_logloss: 0.268251\n",
      "[15]\tvalid_0's binary_logloss: 0.267794\n",
      "[16]\tvalid_0's binary_logloss: 0.267436\n",
      "[17]\tvalid_0's binary_logloss: 0.267023\n",
      "[18]\tvalid_0's binary_logloss: 0.266747\n",
      "[19]\tvalid_0's binary_logloss: 0.266331\n",
      "[20]\tvalid_0's binary_logloss: 0.265602\n",
      "[21]\tvalid_0's binary_logloss: 0.265357\n",
      "[22]\tvalid_0's binary_logloss: 0.265119\n",
      "[23]\tvalid_0's binary_logloss: 0.264933\n",
      "[24]\tvalid_0's binary_logloss: 0.264707\n",
      "[25]\tvalid_0's binary_logloss: 0.26456\n",
      "[26]\tvalid_0's binary_logloss: 0.264384\n",
      "[27]\tvalid_0's binary_logloss: 0.264229\n",
      "[28]\tvalid_0's binary_logloss: 0.263754\n",
      "[29]\tvalid_0's binary_logloss: 0.263592\n",
      "[30]\tvalid_0's binary_logloss: 0.263484\n",
      "[31]\tvalid_0's binary_logloss: 0.263158\n",
      "[32]\tvalid_0's binary_logloss: 0.263061\n",
      "[33]\tvalid_0's binary_logloss: 0.262982\n",
      "[34]\tvalid_0's binary_logloss: 0.262881\n",
      "[35]\tvalid_0's binary_logloss: 0.262672\n",
      "[36]\tvalid_0's binary_logloss: 0.26257\n",
      "[37]\tvalid_0's binary_logloss: 0.262497\n",
      "[38]\tvalid_0's binary_logloss: 0.262397\n",
      "[39]\tvalid_0's binary_logloss: 0.262297\n",
      "[40]\tvalid_0's binary_logloss: 0.262171\n",
      "[41]\tvalid_0's binary_logloss: 0.262117\n",
      "[42]\tvalid_0's binary_logloss: 0.262057\n",
      "[43]\tvalid_0's binary_logloss: 0.262022\n",
      "[44]\tvalid_0's binary_logloss: 0.261959\n",
      "[45]\tvalid_0's binary_logloss: 0.261889\n",
      "[46]\tvalid_0's binary_logloss: 0.261824\n",
      "[47]\tvalid_0's binary_logloss: 0.261793\n",
      "[48]\tvalid_0's binary_logloss: 0.261695\n",
      "[49]\tvalid_0's binary_logloss: 0.261652\n",
      "[50]\tvalid_0's binary_logloss: 0.261592\n",
      "[51]\tvalid_0's binary_logloss: 0.261578\n",
      "[52]\tvalid_0's binary_logloss: 0.261402\n",
      "[53]\tvalid_0's binary_logloss: 0.261359\n",
      "[54]\tvalid_0's binary_logloss: 0.261235\n",
      "[55]\tvalid_0's binary_logloss: 0.261173\n",
      "[56]\tvalid_0's binary_logloss: 0.26112\n",
      "[57]\tvalid_0's binary_logloss: 0.261104\n",
      "[58]\tvalid_0's binary_logloss: 0.261051\n",
      "[59]\tvalid_0's binary_logloss: 0.261033\n",
      "[60]\tvalid_0's binary_logloss: 0.260968\n",
      "[61]\tvalid_0's binary_logloss: 0.260966\n",
      "[62]\tvalid_0's binary_logloss: 0.260917\n",
      "[63]\tvalid_0's binary_logloss: 0.260889\n",
      "[64]\tvalid_0's binary_logloss: 0.26081\n",
      "[65]\tvalid_0's binary_logloss: 0.260784\n",
      "[66]\tvalid_0's binary_logloss: 0.260754\n",
      "[67]\tvalid_0's binary_logloss: 0.260673\n",
      "[68]\tvalid_0's binary_logloss: 0.260608\n",
      "[69]\tvalid_0's binary_logloss: 0.260616\n",
      "[70]\tvalid_0's binary_logloss: 0.260594\n",
      "[71]\tvalid_0's binary_logloss: 0.260565\n",
      "[72]\tvalid_0's binary_logloss: 0.260552\n",
      "[73]\tvalid_0's binary_logloss: 0.260534\n",
      "[74]\tvalid_0's binary_logloss: 0.26055\n",
      "[75]\tvalid_0's binary_logloss: 0.260544\n",
      "[76]\tvalid_0's binary_logloss: 0.260478\n",
      "[77]\tvalid_0's binary_logloss: 0.260425\n",
      "[78]\tvalid_0's binary_logloss: 0.260308\n",
      "[79]\tvalid_0's binary_logloss: 0.260321\n",
      "[80]\tvalid_0's binary_logloss: 0.260288\n",
      "[81]\tvalid_0's binary_logloss: 0.260285\n",
      "[82]\tvalid_0's binary_logloss: 0.260286\n",
      "[83]\tvalid_0's binary_logloss: 0.260285\n",
      "[84]\tvalid_0's binary_logloss: 0.260294\n",
      "[85]\tvalid_0's binary_logloss: 0.260281\n",
      "[86]\tvalid_0's binary_logloss: 0.260288\n",
      "[87]\tvalid_0's binary_logloss: 0.260285\n",
      "[88]\tvalid_0's binary_logloss: 0.260287\n",
      "[89]\tvalid_0's binary_logloss: 0.260275\n",
      "[90]\tvalid_0's binary_logloss: 0.260274\n",
      "[91]\tvalid_0's binary_logloss: 0.26027\n",
      "[92]\tvalid_0's binary_logloss: 0.26027\n",
      "[93]\tvalid_0's binary_logloss: 0.260279\n",
      "[94]\tvalid_0's binary_logloss: 0.260304\n",
      "[95]\tvalid_0's binary_logloss: 0.260291\n",
      "[96]\tvalid_0's binary_logloss: 0.260294\n",
      "[97]\tvalid_0's binary_logloss: 0.260236\n",
      "[98]\tvalid_0's binary_logloss: 0.260186\n",
      "[99]\tvalid_0's binary_logloss: 0.260171\n",
      "[100]\tvalid_0's binary_logloss: 0.260181\n",
      "[101]\tvalid_0's binary_logloss: 0.260188\n",
      "[102]\tvalid_0's binary_logloss: 0.260157\n",
      "[103]\tvalid_0's binary_logloss: 0.260164\n",
      "[104]\tvalid_0's binary_logloss: 0.260155\n",
      "[105]\tvalid_0's binary_logloss: 0.260137\n",
      "[106]\tvalid_0's binary_logloss: 0.260131\n",
      "[107]\tvalid_0's binary_logloss: 0.260134\n",
      "[108]\tvalid_0's binary_logloss: 0.260136\n",
      "[109]\tvalid_0's binary_logloss: 0.260113\n",
      "[110]\tvalid_0's binary_logloss: 0.260121\n",
      "[111]\tvalid_0's binary_logloss: 0.260131\n",
      "[112]\tvalid_0's binary_logloss: 0.260122\n",
      "[113]\tvalid_0's binary_logloss: 0.260082\n",
      "[114]\tvalid_0's binary_logloss: 0.260064\n",
      "[115]\tvalid_0's binary_logloss: 0.260072\n",
      "[116]\tvalid_0's binary_logloss: 0.260054\n",
      "[117]\tvalid_0's binary_logloss: 0.260072\n",
      "[118]\tvalid_0's binary_logloss: 0.260095\n",
      "[119]\tvalid_0's binary_logloss: 0.26008\n",
      "[120]\tvalid_0's binary_logloss: 0.260086\n",
      "[121]\tvalid_0's binary_logloss: 0.26008\n",
      "[122]\tvalid_0's binary_logloss: 0.260097\n",
      "[123]\tvalid_0's binary_logloss: 0.26009\n",
      "[124]\tvalid_0's binary_logloss: 0.2601\n",
      "[125]\tvalid_0's binary_logloss: 0.260101\n",
      "[126]\tvalid_0's binary_logloss: 0.260115\n",
      "[127]\tvalid_0's binary_logloss: 0.260116\n",
      "[128]\tvalid_0's binary_logloss: 0.260109\n",
      "[129]\tvalid_0's binary_logloss: 0.260089\n",
      "[130]\tvalid_0's binary_logloss: 0.26011\n",
      "[131]\tvalid_0's binary_logloss: 0.26011\n",
      "[132]\tvalid_0's binary_logloss: 0.260099\n",
      "[133]\tvalid_0's binary_logloss: 0.260108\n",
      "[134]\tvalid_0's binary_logloss: 0.260119\n",
      "[135]\tvalid_0's binary_logloss: 0.260136\n",
      "[136]\tvalid_0's binary_logloss: 0.260135\n",
      "[137]\tvalid_0's binary_logloss: 0.260135\n",
      "[138]\tvalid_0's binary_logloss: 0.260144\n",
      "[139]\tvalid_0's binary_logloss: 0.260138\n",
      "[140]\tvalid_0's binary_logloss: 0.260143\n",
      "[141]\tvalid_0's binary_logloss: 0.260155\n",
      "[142]\tvalid_0's binary_logloss: 0.26016\n",
      "[143]\tvalid_0's binary_logloss: 0.260148\n",
      "[144]\tvalid_0's binary_logloss: 0.260153\n",
      "[145]\tvalid_0's binary_logloss: 0.260141\n",
      "[146]\tvalid_0's binary_logloss: 0.260154\n",
      "[147]\tvalid_0's binary_logloss: 0.26016\n",
      "[148]\tvalid_0's binary_logloss: 0.260141\n",
      "[149]\tvalid_0's binary_logloss: 0.260147\n",
      "[150]\tvalid_0's binary_logloss: 0.260158\n",
      "[151]\tvalid_0's binary_logloss: 0.260147\n",
      "[152]\tvalid_0's binary_logloss: 0.260145\n",
      "[153]\tvalid_0's binary_logloss: 0.260141\n",
      "[154]\tvalid_0's binary_logloss: 0.260146\n",
      "[155]\tvalid_0's binary_logloss: 0.260145\n",
      "[156]\tvalid_0's binary_logloss: 0.260067\n",
      "[157]\tvalid_0's binary_logloss: 0.26007\n",
      "[158]\tvalid_0's binary_logloss: 0.260084\n",
      "[159]\tvalid_0's binary_logloss: 0.260062\n",
      "[160]\tvalid_0's binary_logloss: 0.26007\n",
      "[161]\tvalid_0's binary_logloss: 0.260045\n",
      "[162]\tvalid_0's binary_logloss: 0.260066\n",
      "[163]\tvalid_0's binary_logloss: 0.260059\n",
      "[164]\tvalid_0's binary_logloss: 0.260057\n",
      "[165]\tvalid_0's binary_logloss: 0.260041\n",
      "[166]\tvalid_0's binary_logloss: 0.260051\n",
      "[167]\tvalid_0's binary_logloss: 0.260054\n",
      "[168]\tvalid_0's binary_logloss: 0.260041\n",
      "[169]\tvalid_0's binary_logloss: 0.26003\n",
      "[170]\tvalid_0's binary_logloss: 0.260038\n",
      "[171]\tvalid_0's binary_logloss: 0.260054\n",
      "[172]\tvalid_0's binary_logloss: 0.260055\n",
      "[173]\tvalid_0's binary_logloss: 0.260069\n",
      "[174]\tvalid_0's binary_logloss: 0.260072\n",
      "[175]\tvalid_0's binary_logloss: 0.260067\n",
      "[176]\tvalid_0's binary_logloss: 0.260071\n",
      "[177]\tvalid_0's binary_logloss: 0.26008\n",
      "[178]\tvalid_0's binary_logloss: 0.26008\n",
      "[179]\tvalid_0's binary_logloss: 0.260096\n",
      "[180]\tvalid_0's binary_logloss: 0.260099\n",
      "[181]\tvalid_0's binary_logloss: 0.260104\n",
      "[182]\tvalid_0's binary_logloss: 0.260106\n",
      "[183]\tvalid_0's binary_logloss: 0.260106\n",
      "[184]\tvalid_0's binary_logloss: 0.260089\n",
      "[185]\tvalid_0's binary_logloss: 0.260089\n",
      "[186]\tvalid_0's binary_logloss: 0.260082\n",
      "[187]\tvalid_0's binary_logloss: 0.260085\n",
      "[188]\tvalid_0's binary_logloss: 0.260088\n",
      "[189]\tvalid_0's binary_logloss: 0.260087\n",
      "[190]\tvalid_0's binary_logloss: 0.260112\n",
      "[191]\tvalid_0's binary_logloss: 0.260112\n",
      "[192]\tvalid_0's binary_logloss: 0.260108\n",
      "[193]\tvalid_0's binary_logloss: 0.260123\n",
      "[194]\tvalid_0's binary_logloss: 0.26015\n",
      "[195]\tvalid_0's binary_logloss: 0.260149\n",
      "[196]\tvalid_0's binary_logloss: 0.260153\n",
      "[197]\tvalid_0's binary_logloss: 0.260175\n",
      "[198]\tvalid_0's binary_logloss: 0.260195\n",
      "[199]\tvalid_0's binary_logloss: 0.260225\n",
      "[200]\tvalid_0's binary_logloss: 0.260234\n",
      "[201]\tvalid_0's binary_logloss: 0.260237\n",
      "[202]\tvalid_0's binary_logloss: 0.26023\n",
      "[203]\tvalid_0's binary_logloss: 0.260238\n",
      "[204]\tvalid_0's binary_logloss: 0.260267\n",
      "[205]\tvalid_0's binary_logloss: 0.260264\n",
      "[206]\tvalid_0's binary_logloss: 0.26025\n"
     ]
    },
    {
     "name": "stdout",
     "output_type": "stream",
     "text": [
      "[207]\tvalid_0's binary_logloss: 0.260255\n",
      "[208]\tvalid_0's binary_logloss: 0.26027\n",
      "[209]\tvalid_0's binary_logloss: 0.260301\n",
      "[210]\tvalid_0's binary_logloss: 0.260289\n",
      "[211]\tvalid_0's binary_logloss: 0.260284\n",
      "[212]\tvalid_0's binary_logloss: 0.260292\n",
      "[213]\tvalid_0's binary_logloss: 0.260323\n",
      "[214]\tvalid_0's binary_logloss: 0.260324\n",
      "[215]\tvalid_0's binary_logloss: 0.260338\n",
      "[216]\tvalid_0's binary_logloss: 0.260352\n",
      "[217]\tvalid_0's binary_logloss: 0.260355\n",
      "[218]\tvalid_0's binary_logloss: 0.260332\n",
      "[219]\tvalid_0's binary_logloss: 0.260323\n",
      "[220]\tvalid_0's binary_logloss: 0.260351\n",
      "[221]\tvalid_0's binary_logloss: 0.260352\n",
      "[222]\tvalid_0's binary_logloss: 0.260342\n",
      "[223]\tvalid_0's binary_logloss: 0.260336\n",
      "[224]\tvalid_0's binary_logloss: 0.260309\n",
      "[225]\tvalid_0's binary_logloss: 0.260295\n",
      "[226]\tvalid_0's binary_logloss: 0.260305\n",
      "[227]\tvalid_0's binary_logloss: 0.260302\n",
      "[228]\tvalid_0's binary_logloss: 0.260314\n",
      "[229]\tvalid_0's binary_logloss: 0.260314\n",
      "[230]\tvalid_0's binary_logloss: 0.260311\n",
      "[231]\tvalid_0's binary_logloss: 0.260313\n",
      "[232]\tvalid_0's binary_logloss: 0.260339\n",
      "[233]\tvalid_0's binary_logloss: 0.260333\n",
      "[234]\tvalid_0's binary_logloss: 0.260342\n",
      "[235]\tvalid_0's binary_logloss: 0.260335\n",
      "[236]\tvalid_0's binary_logloss: 0.260319\n",
      "[237]\tvalid_0's binary_logloss: 0.260327\n",
      "[238]\tvalid_0's binary_logloss: 0.260344\n",
      "[239]\tvalid_0's binary_logloss: 0.260334\n",
      "[240]\tvalid_0's binary_logloss: 0.260311\n",
      "[241]\tvalid_0's binary_logloss: 0.260318\n",
      "[242]\tvalid_0's binary_logloss: 0.260335\n",
      "[243]\tvalid_0's binary_logloss: 0.260345\n",
      "[244]\tvalid_0's binary_logloss: 0.260355\n",
      "[245]\tvalid_0's binary_logloss: 0.260363\n",
      "[246]\tvalid_0's binary_logloss: 0.260373\n",
      "[247]\tvalid_0's binary_logloss: 0.260359\n",
      "[248]\tvalid_0's binary_logloss: 0.260322\n",
      "[249]\tvalid_0's binary_logloss: 0.260325\n",
      "[250]\tvalid_0's binary_logloss: 0.260323\n",
      "[251]\tvalid_0's binary_logloss: 0.260326\n",
      "[252]\tvalid_0's binary_logloss: 0.260317\n",
      "[253]\tvalid_0's binary_logloss: 0.260323\n",
      "[254]\tvalid_0's binary_logloss: 0.260327\n",
      "[255]\tvalid_0's binary_logloss: 0.260339\n",
      "[256]\tvalid_0's binary_logloss: 0.260359\n",
      "[257]\tvalid_0's binary_logloss: 0.260369\n",
      "[258]\tvalid_0's binary_logloss: 0.260383\n",
      "[259]\tvalid_0's binary_logloss: 0.260383\n",
      "[260]\tvalid_0's binary_logloss: 0.260379\n",
      "[261]\tvalid_0's binary_logloss: 0.260377\n",
      "[262]\tvalid_0's binary_logloss: 0.260385\n",
      "[263]\tvalid_0's binary_logloss: 0.260374\n",
      "[264]\tvalid_0's binary_logloss: 0.260369\n",
      "[265]\tvalid_0's binary_logloss: 0.260372\n",
      "[266]\tvalid_0's binary_logloss: 0.260367\n",
      "[267]\tvalid_0's binary_logloss: 0.260397\n",
      "[268]\tvalid_0's binary_logloss: 0.260392\n",
      "[269]\tvalid_0's binary_logloss: 0.260346\n",
      "Early stopping, best iteration is:\n",
      "[169]\tvalid_0's binary_logloss: 0.26003\n",
      "[1]\tvalid_0's binary_logloss: 0.278581\n",
      "Training until validation scores don't improve for 100 rounds\n",
      "[2]\tvalid_0's binary_logloss: 0.277464\n",
      "[3]\tvalid_0's binary_logloss: 0.276548\n",
      "[4]\tvalid_0's binary_logloss: 0.275825\n",
      "[5]\tvalid_0's binary_logloss: 0.275212\n",
      "[6]\tvalid_0's binary_logloss: 0.274739\n",
      "[7]\tvalid_0's binary_logloss: 0.274352\n",
      "[8]\tvalid_0's binary_logloss: 0.274002\n",
      "[9]\tvalid_0's binary_logloss: 0.273712\n",
      "[10]\tvalid_0's binary_logloss: 0.273474\n",
      "[11]\tvalid_0's binary_logloss: 0.273254\n",
      "[12]\tvalid_0's binary_logloss: 0.273083\n",
      "[13]\tvalid_0's binary_logloss: 0.272961\n",
      "[14]\tvalid_0's binary_logloss: 0.272811\n",
      "[15]\tvalid_0's binary_logloss: 0.272697\n",
      "[16]\tvalid_0's binary_logloss: 0.272636\n",
      "[17]\tvalid_0's binary_logloss: 0.27258\n",
      "[18]\tvalid_0's binary_logloss: 0.272522\n",
      "[19]\tvalid_0's binary_logloss: 0.272464\n",
      "[20]\tvalid_0's binary_logloss: 0.272423\n",
      "[21]\tvalid_0's binary_logloss: 0.272365\n",
      "[22]\tvalid_0's binary_logloss: 0.272328\n",
      "[23]\tvalid_0's binary_logloss: 0.272271\n",
      "[24]\tvalid_0's binary_logloss: 0.27225\n",
      "[25]\tvalid_0's binary_logloss: 0.272233\n",
      "[26]\tvalid_0's binary_logloss: 0.272186\n",
      "[27]\tvalid_0's binary_logloss: 0.272175\n",
      "[28]\tvalid_0's binary_logloss: 0.272146\n",
      "[29]\tvalid_0's binary_logloss: 0.272144\n",
      "[30]\tvalid_0's binary_logloss: 0.272139\n",
      "[31]\tvalid_0's binary_logloss: 0.272103\n",
      "[32]\tvalid_0's binary_logloss: 0.272086\n",
      "[33]\tvalid_0's binary_logloss: 0.272068\n",
      "[34]\tvalid_0's binary_logloss: 0.272058\n",
      "[35]\tvalid_0's binary_logloss: 0.272055\n",
      "[36]\tvalid_0's binary_logloss: 0.272061\n",
      "[37]\tvalid_0's binary_logloss: 0.272065\n",
      "[38]\tvalid_0's binary_logloss: 0.272064\n",
      "[39]\tvalid_0's binary_logloss: 0.272073\n",
      "[40]\tvalid_0's binary_logloss: 0.272064\n",
      "[41]\tvalid_0's binary_logloss: 0.272055\n",
      "[42]\tvalid_0's binary_logloss: 0.272033\n",
      "[43]\tvalid_0's binary_logloss: 0.272051\n",
      "[44]\tvalid_0's binary_logloss: 0.272061\n",
      "[45]\tvalid_0's binary_logloss: 0.272068\n",
      "[46]\tvalid_0's binary_logloss: 0.272072\n",
      "[47]\tvalid_0's binary_logloss: 0.272074\n",
      "[48]\tvalid_0's binary_logloss: 0.272073\n",
      "[49]\tvalid_0's binary_logloss: 0.272088\n",
      "[50]\tvalid_0's binary_logloss: 0.272109\n",
      "[51]\tvalid_0's binary_logloss: 0.272112\n",
      "[52]\tvalid_0's binary_logloss: 0.272115\n",
      "[53]\tvalid_0's binary_logloss: 0.272114\n",
      "[54]\tvalid_0's binary_logloss: 0.272128\n",
      "[55]\tvalid_0's binary_logloss: 0.27213\n",
      "[56]\tvalid_0's binary_logloss: 0.272137\n",
      "[57]\tvalid_0's binary_logloss: 0.272149\n",
      "[58]\tvalid_0's binary_logloss: 0.27215\n",
      "[59]\tvalid_0's binary_logloss: 0.272146\n",
      "[60]\tvalid_0's binary_logloss: 0.272151\n",
      "[61]\tvalid_0's binary_logloss: 0.272139\n",
      "[62]\tvalid_0's binary_logloss: 0.27214\n",
      "[63]\tvalid_0's binary_logloss: 0.272146\n",
      "[64]\tvalid_0's binary_logloss: 0.272148\n",
      "[65]\tvalid_0's binary_logloss: 0.272156\n",
      "[66]\tvalid_0's binary_logloss: 0.272161\n",
      "[67]\tvalid_0's binary_logloss: 0.272173\n",
      "[68]\tvalid_0's binary_logloss: 0.272181\n",
      "[69]\tvalid_0's binary_logloss: 0.272187\n",
      "[70]\tvalid_0's binary_logloss: 0.272195\n",
      "[71]\tvalid_0's binary_logloss: 0.272211\n",
      "[72]\tvalid_0's binary_logloss: 0.272208\n",
      "[73]\tvalid_0's binary_logloss: 0.272209\n",
      "[74]\tvalid_0's binary_logloss: 0.272214\n",
      "[75]\tvalid_0's binary_logloss: 0.272228\n",
      "[76]\tvalid_0's binary_logloss: 0.272234\n",
      "[77]\tvalid_0's binary_logloss: 0.272231\n",
      "[78]\tvalid_0's binary_logloss: 0.272242\n",
      "[79]\tvalid_0's binary_logloss: 0.272229\n",
      "[80]\tvalid_0's binary_logloss: 0.272241\n",
      "[81]\tvalid_0's binary_logloss: 0.272251\n",
      "[82]\tvalid_0's binary_logloss: 0.27226\n",
      "[83]\tvalid_0's binary_logloss: 0.272274\n",
      "[84]\tvalid_0's binary_logloss: 0.272281\n",
      "[85]\tvalid_0's binary_logloss: 0.272286\n",
      "[86]\tvalid_0's binary_logloss: 0.272303\n",
      "[87]\tvalid_0's binary_logloss: 0.272306\n",
      "[88]\tvalid_0's binary_logloss: 0.272292\n",
      "[89]\tvalid_0's binary_logloss: 0.272316\n",
      "[90]\tvalid_0's binary_logloss: 0.272308\n",
      "[91]\tvalid_0's binary_logloss: 0.272318\n",
      "[92]\tvalid_0's binary_logloss: 0.272318\n",
      "[93]\tvalid_0's binary_logloss: 0.272322\n",
      "[94]\tvalid_0's binary_logloss: 0.272327\n",
      "[95]\tvalid_0's binary_logloss: 0.272341\n",
      "[96]\tvalid_0's binary_logloss: 0.27235\n",
      "[97]\tvalid_0's binary_logloss: 0.272357\n",
      "[98]\tvalid_0's binary_logloss: 0.27235\n",
      "[99]\tvalid_0's binary_logloss: 0.272365\n",
      "[100]\tvalid_0's binary_logloss: 0.27238\n",
      "[101]\tvalid_0's binary_logloss: 0.272395\n",
      "[102]\tvalid_0's binary_logloss: 0.272394\n",
      "[103]\tvalid_0's binary_logloss: 0.272392\n",
      "[104]\tvalid_0's binary_logloss: 0.272393\n",
      "[105]\tvalid_0's binary_logloss: 0.272403\n",
      "[106]\tvalid_0's binary_logloss: 0.272399\n",
      "[107]\tvalid_0's binary_logloss: 0.272434\n",
      "[108]\tvalid_0's binary_logloss: 0.272448\n",
      "[109]\tvalid_0's binary_logloss: 0.272458\n",
      "[110]\tvalid_0's binary_logloss: 0.272469\n",
      "[111]\tvalid_0's binary_logloss: 0.272478\n",
      "[112]\tvalid_0's binary_logloss: 0.272486\n",
      "[113]\tvalid_0's binary_logloss: 0.272498\n",
      "[114]\tvalid_0's binary_logloss: 0.272512\n",
      "[115]\tvalid_0's binary_logloss: 0.272527\n",
      "[116]\tvalid_0's binary_logloss: 0.272549\n",
      "[117]\tvalid_0's binary_logloss: 0.272544\n",
      "[118]\tvalid_0's binary_logloss: 0.272536\n",
      "[119]\tvalid_0's binary_logloss: 0.272531\n",
      "[120]\tvalid_0's binary_logloss: 0.272549\n",
      "[121]\tvalid_0's binary_logloss: 0.272544\n",
      "[122]\tvalid_0's binary_logloss: 0.27255\n",
      "[123]\tvalid_0's binary_logloss: 0.272552\n",
      "[124]\tvalid_0's binary_logloss: 0.272574\n",
      "[125]\tvalid_0's binary_logloss: 0.272582\n",
      "[126]\tvalid_0's binary_logloss: 0.27258\n",
      "[127]\tvalid_0's binary_logloss: 0.272578\n",
      "[128]\tvalid_0's binary_logloss: 0.272585\n",
      "[129]\tvalid_0's binary_logloss: 0.27259\n",
      "[130]\tvalid_0's binary_logloss: 0.272591\n",
      "[131]\tvalid_0's binary_logloss: 0.272593\n",
      "[132]\tvalid_0's binary_logloss: 0.272605\n",
      "[133]\tvalid_0's binary_logloss: 0.272606\n",
      "[134]\tvalid_0's binary_logloss: 0.272595\n",
      "[135]\tvalid_0's binary_logloss: 0.272597\n",
      "[136]\tvalid_0's binary_logloss: 0.272597\n",
      "[137]\tvalid_0's binary_logloss: 0.272593\n"
     ]
    },
    {
     "name": "stdout",
     "output_type": "stream",
     "text": [
      "[138]\tvalid_0's binary_logloss: 0.272583\n",
      "[139]\tvalid_0's binary_logloss: 0.272564\n",
      "[140]\tvalid_0's binary_logloss: 0.272579\n",
      "[141]\tvalid_0's binary_logloss: 0.27257\n",
      "[142]\tvalid_0's binary_logloss: 0.272575\n",
      "Early stopping, best iteration is:\n",
      "[42]\tvalid_0's binary_logloss: 0.272033\n",
      "[1]\tvalid_0's binary_logloss: 0.273048\n",
      "Training until validation scores don't improve for 100 rounds\n",
      "[2]\tvalid_0's binary_logloss: 0.269024\n",
      "[3]\tvalid_0's binary_logloss: 0.265751\n",
      "[4]\tvalid_0's binary_logloss: 0.263103\n",
      "[5]\tvalid_0's binary_logloss: 0.261114\n",
      "[6]\tvalid_0's binary_logloss: 0.259345\n",
      "[7]\tvalid_0's binary_logloss: 0.257917\n",
      "[8]\tvalid_0's binary_logloss: 0.256716\n",
      "[9]\tvalid_0's binary_logloss: 0.255703\n",
      "[10]\tvalid_0's binary_logloss: 0.254836\n",
      "[11]\tvalid_0's binary_logloss: 0.254022\n",
      "[12]\tvalid_0's binary_logloss: 0.253313\n",
      "[13]\tvalid_0's binary_logloss: 0.252684\n",
      "[14]\tvalid_0's binary_logloss: 0.252119\n",
      "[15]\tvalid_0's binary_logloss: 0.251686\n",
      "[16]\tvalid_0's binary_logloss: 0.251306\n",
      "[17]\tvalid_0's binary_logloss: 0.250907\n",
      "[18]\tvalid_0's binary_logloss: 0.250504\n",
      "[19]\tvalid_0's binary_logloss: 0.250175\n",
      "[20]\tvalid_0's binary_logloss: 0.249829\n",
      "[21]\tvalid_0's binary_logloss: 0.249591\n",
      "[22]\tvalid_0's binary_logloss: 0.249062\n",
      "[23]\tvalid_0's binary_logloss: 0.248852\n",
      "[24]\tvalid_0's binary_logloss: 0.248671\n",
      "[25]\tvalid_0's binary_logloss: 0.248509\n",
      "[26]\tvalid_0's binary_logloss: 0.248347\n",
      "[27]\tvalid_0's binary_logloss: 0.248192\n",
      "[28]\tvalid_0's binary_logloss: 0.247977\n",
      "[29]\tvalid_0's binary_logloss: 0.247814\n",
      "[30]\tvalid_0's binary_logloss: 0.247656\n",
      "[31]\tvalid_0's binary_logloss: 0.247264\n",
      "[32]\tvalid_0's binary_logloss: 0.247127\n",
      "[33]\tvalid_0's binary_logloss: 0.247014\n",
      "[34]\tvalid_0's binary_logloss: 0.246869\n",
      "[35]\tvalid_0's binary_logloss: 0.246806\n",
      "[36]\tvalid_0's binary_logloss: 0.246741\n",
      "[37]\tvalid_0's binary_logloss: 0.246628\n",
      "[38]\tvalid_0's binary_logloss: 0.246566\n",
      "[39]\tvalid_0's binary_logloss: 0.246231\n",
      "[40]\tvalid_0's binary_logloss: 0.246127\n",
      "[41]\tvalid_0's binary_logloss: 0.24604\n",
      "[42]\tvalid_0's binary_logloss: 0.24594\n",
      "[43]\tvalid_0's binary_logloss: 0.245876\n",
      "[44]\tvalid_0's binary_logloss: 0.245811\n",
      "[45]\tvalid_0's binary_logloss: 0.245752\n",
      "[46]\tvalid_0's binary_logloss: 0.245724\n",
      "[47]\tvalid_0's binary_logloss: 0.245689\n",
      "[48]\tvalid_0's binary_logloss: 0.245665\n",
      "[49]\tvalid_0's binary_logloss: 0.245564\n",
      "[50]\tvalid_0's binary_logloss: 0.24553\n",
      "[51]\tvalid_0's binary_logloss: 0.245495\n",
      "[52]\tvalid_0's binary_logloss: 0.245461\n",
      "[53]\tvalid_0's binary_logloss: 0.245367\n",
      "[54]\tvalid_0's binary_logloss: 0.245319\n",
      "[55]\tvalid_0's binary_logloss: 0.245258\n",
      "[56]\tvalid_0's binary_logloss: 0.245147\n",
      "[57]\tvalid_0's binary_logloss: 0.245115\n",
      "[58]\tvalid_0's binary_logloss: 0.245089\n",
      "[59]\tvalid_0's binary_logloss: 0.245067\n",
      "[60]\tvalid_0's binary_logloss: 0.245039\n",
      "[61]\tvalid_0's binary_logloss: 0.245012\n",
      "[62]\tvalid_0's binary_logloss: 0.245031\n",
      "[63]\tvalid_0's binary_logloss: 0.245025\n",
      "[64]\tvalid_0's binary_logloss: 0.24501\n",
      "[65]\tvalid_0's binary_logloss: 0.244958\n",
      "[66]\tvalid_0's binary_logloss: 0.244955\n",
      "[67]\tvalid_0's binary_logloss: 0.244919\n",
      "[68]\tvalid_0's binary_logloss: 0.244921\n",
      "[69]\tvalid_0's binary_logloss: 0.244908\n",
      "[70]\tvalid_0's binary_logloss: 0.244886\n",
      "[71]\tvalid_0's binary_logloss: 0.244878\n",
      "[72]\tvalid_0's binary_logloss: 0.244767\n",
      "[73]\tvalid_0's binary_logloss: 0.244751\n",
      "[74]\tvalid_0's binary_logloss: 0.24477\n",
      "[75]\tvalid_0's binary_logloss: 0.244795\n",
      "[76]\tvalid_0's binary_logloss: 0.244794\n",
      "[77]\tvalid_0's binary_logloss: 0.244798\n",
      "[78]\tvalid_0's binary_logloss: 0.24479\n",
      "[79]\tvalid_0's binary_logloss: 0.244754\n",
      "[80]\tvalid_0's binary_logloss: 0.244767\n",
      "[81]\tvalid_0's binary_logloss: 0.244755\n",
      "[82]\tvalid_0's binary_logloss: 0.244724\n",
      "[83]\tvalid_0's binary_logloss: 0.244722\n",
      "[84]\tvalid_0's binary_logloss: 0.244733\n",
      "[85]\tvalid_0's binary_logloss: 0.244729\n",
      "[86]\tvalid_0's binary_logloss: 0.244741\n",
      "[87]\tvalid_0's binary_logloss: 0.24471\n",
      "[88]\tvalid_0's binary_logloss: 0.244714\n",
      "[89]\tvalid_0's binary_logloss: 0.244721\n",
      "[90]\tvalid_0's binary_logloss: 0.244711\n",
      "[91]\tvalid_0's binary_logloss: 0.244712\n",
      "[92]\tvalid_0's binary_logloss: 0.244724\n",
      "[93]\tvalid_0's binary_logloss: 0.244717\n",
      "[94]\tvalid_0's binary_logloss: 0.244624\n",
      "[95]\tvalid_0's binary_logloss: 0.244591\n",
      "[96]\tvalid_0's binary_logloss: 0.244609\n",
      "[97]\tvalid_0's binary_logloss: 0.244571\n",
      "[98]\tvalid_0's binary_logloss: 0.244574\n",
      "[99]\tvalid_0's binary_logloss: 0.244555\n",
      "[100]\tvalid_0's binary_logloss: 0.244538\n",
      "[101]\tvalid_0's binary_logloss: 0.244546\n",
      "[102]\tvalid_0's binary_logloss: 0.244563\n",
      "[103]\tvalid_0's binary_logloss: 0.244565\n",
      "[104]\tvalid_0's binary_logloss: 0.244587\n",
      "[105]\tvalid_0's binary_logloss: 0.244585\n",
      "[106]\tvalid_0's binary_logloss: 0.244579\n",
      "[107]\tvalid_0's binary_logloss: 0.244561\n",
      "[108]\tvalid_0's binary_logloss: 0.244537\n",
      "[109]\tvalid_0's binary_logloss: 0.244523\n",
      "[110]\tvalid_0's binary_logloss: 0.244524\n",
      "[111]\tvalid_0's binary_logloss: 0.244547\n",
      "[112]\tvalid_0's binary_logloss: 0.244553\n",
      "[113]\tvalid_0's binary_logloss: 0.244565\n",
      "[114]\tvalid_0's binary_logloss: 0.244577\n",
      "[115]\tvalid_0's binary_logloss: 0.244582\n",
      "[116]\tvalid_0's binary_logloss: 0.244588\n",
      "[117]\tvalid_0's binary_logloss: 0.244592\n",
      "[118]\tvalid_0's binary_logloss: 0.244612\n",
      "[119]\tvalid_0's binary_logloss: 0.244609\n",
      "[120]\tvalid_0's binary_logloss: 0.244619\n",
      "[121]\tvalid_0's binary_logloss: 0.244636\n",
      "[122]\tvalid_0's binary_logloss: 0.244617\n",
      "[123]\tvalid_0's binary_logloss: 0.244604\n",
      "[124]\tvalid_0's binary_logloss: 0.244616\n",
      "[125]\tvalid_0's binary_logloss: 0.244626\n",
      "[126]\tvalid_0's binary_logloss: 0.244638\n",
      "[127]\tvalid_0's binary_logloss: 0.24464\n",
      "[128]\tvalid_0's binary_logloss: 0.244641\n",
      "[129]\tvalid_0's binary_logloss: 0.244654\n",
      "[130]\tvalid_0's binary_logloss: 0.244667\n",
      "[131]\tvalid_0's binary_logloss: 0.244657\n",
      "[132]\tvalid_0's binary_logloss: 0.244661\n",
      "[133]\tvalid_0's binary_logloss: 0.244673\n",
      "[134]\tvalid_0's binary_logloss: 0.244687\n",
      "[135]\tvalid_0's binary_logloss: 0.244683\n",
      "[136]\tvalid_0's binary_logloss: 0.244678\n",
      "[137]\tvalid_0's binary_logloss: 0.244682\n",
      "[138]\tvalid_0's binary_logloss: 0.244659\n",
      "[139]\tvalid_0's binary_logloss: 0.244663\n",
      "[140]\tvalid_0's binary_logloss: 0.244668\n",
      "[141]\tvalid_0's binary_logloss: 0.244656\n",
      "[142]\tvalid_0's binary_logloss: 0.244646\n",
      "[143]\tvalid_0's binary_logloss: 0.244579\n",
      "[144]\tvalid_0's binary_logloss: 0.244565\n",
      "[145]\tvalid_0's binary_logloss: 0.244585\n",
      "[146]\tvalid_0's binary_logloss: 0.244576\n",
      "[147]\tvalid_0's binary_logloss: 0.244567\n",
      "[148]\tvalid_0's binary_logloss: 0.244564\n",
      "[149]\tvalid_0's binary_logloss: 0.244541\n",
      "[150]\tvalid_0's binary_logloss: 0.244542\n",
      "[151]\tvalid_0's binary_logloss: 0.244537\n",
      "[152]\tvalid_0's binary_logloss: 0.244514\n",
      "[153]\tvalid_0's binary_logloss: 0.244517\n",
      "[154]\tvalid_0's binary_logloss: 0.24454\n",
      "[155]\tvalid_0's binary_logloss: 0.24455\n",
      "[156]\tvalid_0's binary_logloss: 0.244562\n",
      "[157]\tvalid_0's binary_logloss: 0.244576\n",
      "[158]\tvalid_0's binary_logloss: 0.244585\n",
      "[159]\tvalid_0's binary_logloss: 0.244586\n",
      "[160]\tvalid_0's binary_logloss: 0.244591\n",
      "[161]\tvalid_0's binary_logloss: 0.244596\n",
      "[162]\tvalid_0's binary_logloss: 0.244584\n",
      "[163]\tvalid_0's binary_logloss: 0.244594\n",
      "[164]\tvalid_0's binary_logloss: 0.244592\n",
      "[165]\tvalid_0's binary_logloss: 0.244551\n",
      "[166]\tvalid_0's binary_logloss: 0.2445\n",
      "[167]\tvalid_0's binary_logloss: 0.244505\n",
      "[168]\tvalid_0's binary_logloss: 0.244518\n",
      "[169]\tvalid_0's binary_logloss: 0.244512\n",
      "[170]\tvalid_0's binary_logloss: 0.24451\n",
      "[171]\tvalid_0's binary_logloss: 0.24453\n",
      "[172]\tvalid_0's binary_logloss: 0.244533\n",
      "[173]\tvalid_0's binary_logloss: 0.244549\n",
      "[174]\tvalid_0's binary_logloss: 0.244559\n",
      "[175]\tvalid_0's binary_logloss: 0.244529\n",
      "[176]\tvalid_0's binary_logloss: 0.244532\n",
      "[177]\tvalid_0's binary_logloss: 0.244523\n",
      "[178]\tvalid_0's binary_logloss: 0.244523\n",
      "[179]\tvalid_0's binary_logloss: 0.244526\n",
      "[180]\tvalid_0's binary_logloss: 0.244531\n",
      "[181]\tvalid_0's binary_logloss: 0.244544\n",
      "[182]\tvalid_0's binary_logloss: 0.244544\n",
      "[183]\tvalid_0's binary_logloss: 0.244538\n",
      "[184]\tvalid_0's binary_logloss: 0.244553\n",
      "[185]\tvalid_0's binary_logloss: 0.244561\n",
      "[186]\tvalid_0's binary_logloss: 0.244573\n",
      "[187]\tvalid_0's binary_logloss: 0.244559\n",
      "[188]\tvalid_0's binary_logloss: 0.244563\n",
      "[189]\tvalid_0's binary_logloss: 0.244566\n",
      "[190]\tvalid_0's binary_logloss: 0.244576\n",
      "[191]\tvalid_0's binary_logloss: 0.244613\n",
      "[192]\tvalid_0's binary_logloss: 0.244609\n",
      "[193]\tvalid_0's binary_logloss: 0.244601\n",
      "[194]\tvalid_0's binary_logloss: 0.244619\n",
      "[195]\tvalid_0's binary_logloss: 0.244604\n",
      "[196]\tvalid_0's binary_logloss: 0.244603\n"
     ]
    },
    {
     "name": "stdout",
     "output_type": "stream",
     "text": [
      "[197]\tvalid_0's binary_logloss: 0.244615\n",
      "[198]\tvalid_0's binary_logloss: 0.244603\n",
      "[199]\tvalid_0's binary_logloss: 0.244619\n",
      "[200]\tvalid_0's binary_logloss: 0.244626\n",
      "[201]\tvalid_0's binary_logloss: 0.244643\n",
      "[202]\tvalid_0's binary_logloss: 0.244662\n",
      "[203]\tvalid_0's binary_logloss: 0.24466\n",
      "[204]\tvalid_0's binary_logloss: 0.244664\n",
      "[205]\tvalid_0's binary_logloss: 0.244674\n",
      "[206]\tvalid_0's binary_logloss: 0.244694\n",
      "[207]\tvalid_0's binary_logloss: 0.244711\n",
      "[208]\tvalid_0's binary_logloss: 0.244727\n",
      "[209]\tvalid_0's binary_logloss: 0.244727\n",
      "[210]\tvalid_0's binary_logloss: 0.24474\n",
      "[211]\tvalid_0's binary_logloss: 0.244754\n",
      "[212]\tvalid_0's binary_logloss: 0.244769\n",
      "[213]\tvalid_0's binary_logloss: 0.244771\n",
      "[214]\tvalid_0's binary_logloss: 0.244784\n",
      "[215]\tvalid_0's binary_logloss: 0.244754\n",
      "[216]\tvalid_0's binary_logloss: 0.24472\n",
      "[217]\tvalid_0's binary_logloss: 0.244723\n",
      "[218]\tvalid_0's binary_logloss: 0.244723\n",
      "[219]\tvalid_0's binary_logloss: 0.244727\n",
      "[220]\tvalid_0's binary_logloss: 0.24472\n",
      "[221]\tvalid_0's binary_logloss: 0.244748\n",
      "[222]\tvalid_0's binary_logloss: 0.244758\n",
      "[223]\tvalid_0's binary_logloss: 0.244741\n",
      "[224]\tvalid_0's binary_logloss: 0.244731\n",
      "[225]\tvalid_0's binary_logloss: 0.244737\n",
      "[226]\tvalid_0's binary_logloss: 0.244724\n",
      "[227]\tvalid_0's binary_logloss: 0.244739\n",
      "[228]\tvalid_0's binary_logloss: 0.244749\n",
      "[229]\tvalid_0's binary_logloss: 0.244759\n",
      "[230]\tvalid_0's binary_logloss: 0.244769\n",
      "[231]\tvalid_0's binary_logloss: 0.244785\n",
      "[232]\tvalid_0's binary_logloss: 0.244782\n",
      "[233]\tvalid_0's binary_logloss: 0.244784\n",
      "[234]\tvalid_0's binary_logloss: 0.244764\n",
      "[235]\tvalid_0's binary_logloss: 0.244759\n",
      "[236]\tvalid_0's binary_logloss: 0.24477\n",
      "[237]\tvalid_0's binary_logloss: 0.24478\n",
      "[238]\tvalid_0's binary_logloss: 0.244762\n",
      "[239]\tvalid_0's binary_logloss: 0.244777\n",
      "[240]\tvalid_0's binary_logloss: 0.244772\n",
      "[241]\tvalid_0's binary_logloss: 0.244768\n",
      "[242]\tvalid_0's binary_logloss: 0.24476\n",
      "[243]\tvalid_0's binary_logloss: 0.244756\n",
      "[244]\tvalid_0's binary_logloss: 0.244747\n",
      "[245]\tvalid_0's binary_logloss: 0.244757\n",
      "[246]\tvalid_0's binary_logloss: 0.244776\n",
      "[247]\tvalid_0's binary_logloss: 0.244783\n",
      "[248]\tvalid_0's binary_logloss: 0.244784\n",
      "[249]\tvalid_0's binary_logloss: 0.244808\n",
      "[250]\tvalid_0's binary_logloss: 0.244832\n",
      "[251]\tvalid_0's binary_logloss: 0.244817\n",
      "[252]\tvalid_0's binary_logloss: 0.244827\n",
      "[253]\tvalid_0's binary_logloss: 0.24483\n",
      "[254]\tvalid_0's binary_logloss: 0.244799\n",
      "[255]\tvalid_0's binary_logloss: 0.244799\n",
      "[256]\tvalid_0's binary_logloss: 0.244807\n",
      "[257]\tvalid_0's binary_logloss: 0.244813\n",
      "[258]\tvalid_0's binary_logloss: 0.244823\n",
      "[259]\tvalid_0's binary_logloss: 0.244827\n",
      "[260]\tvalid_0's binary_logloss: 0.24486\n",
      "[261]\tvalid_0's binary_logloss: 0.244868\n",
      "[262]\tvalid_0's binary_logloss: 0.244861\n",
      "[263]\tvalid_0's binary_logloss: 0.244874\n",
      "[264]\tvalid_0's binary_logloss: 0.244887\n",
      "[265]\tvalid_0's binary_logloss: 0.244888\n",
      "[266]\tvalid_0's binary_logloss: 0.244902\n",
      "Early stopping, best iteration is:\n",
      "[166]\tvalid_0's binary_logloss: 0.2445\n",
      "0.9187631709030362\n",
      "0.9194786273642584\n",
      "0.9206103494029191\n"
     ]
    }
   ],
   "source": [
    "evals1 = [(kg1_test_f, kg1_test_t)]\n",
    "evals2 = [(kg2_test_f, kg2_test_t)]\n",
    "evals3 = [(kg3_test_f, kg3_test_t)]\n",
    "\n",
    "lgbm_wrapper1 = LGBMClassifier(random_state=1, n_estimators=400 ,n_jobs = -1)\n",
    "lgbm_wrapper2 = LGBMClassifier(random_state=2, n_estimators=400 ,n_jobs = -1)\n",
    "lgbm_wrapper3 = LGBMClassifier(random_state=3, n_estimators=400 ,n_jobs = -1)\n",
    "\n",
    "lgbm_wrapper1.fit(kg1_train_f, kg1_train_t, early_stopping_rounds=100, eval_set=evals1, eval_metric='logloss', verbose=True)\n",
    "lgbm_wrapper2.fit(kg2_train_f, kg2_train_t, early_stopping_rounds=100, eval_set=evals2, eval_metric='logloss', verbose=True)\n",
    "lgbm_wrapper3.fit(kg3_train_f, kg3_train_t, early_stopping_rounds=100, eval_set=evals3, eval_metric='logloss', verbose=True)\n",
    "\n",
    "lgbm_wrapper1_pred = lgbm_wrapper1.predict(kg1_test_f)\n",
    "lgbm_wrapper2_pred = lgbm_wrapper2.predict(kg2_test_f)\n",
    "lgbm_wrapper3_pred = lgbm_wrapper3.predict(kg3_test_f)\n",
    "\n",
    "lgbm_accuracy1 = accuracy_score(kg1_test_t, lgbm_wrapper1_pred)\n",
    "lgbm_accuracy2 = accuracy_score(kg2_test_t, lgbm_wrapper2_pred)\n",
    "lgbm_accuracy3 = accuracy_score(kg3_test_t, lgbm_wrapper3_pred)\n",
    "\n",
    "print(lgbm_accuracy1)\n",
    "print(lgbm_accuracy2)\n",
    "print(lgbm_accuracy3)"
   ]
  },
  {
   "cell_type": "markdown",
   "metadata": {},
   "source": [
    "## Logist Regression\n",
    "- 정의: 독립 변수의 선형 결합을 이용하여 사건의 발생 가능성을 예측하는데 사용되는 통계 기법을 적용한 모델\n",
    "- 사용 이유: 선형 회귀분석은 기본적으로 종속변수와 독립변수 모두 연속형 변수일 때 사용 가능하다. 종속변수가 0 또는 1인 이진형 변수일 때 사용할 수 있는 회귀분석 방법이기 때문이다.\n",
    "- 원리: 선형 방적식의 결과를 로지스틱 함수에 대입하여 0과 1사이로 나타낸다. \n",
    "- 장점: \n",
    "    - 0 ~ 1 사이의 결과값이 나와서 확률값으로 해석할 수있다.\n",
    "    - 결과를 통해 유효한 정보를 획득할 수 있다.\n",
    "    - 모델의 안정성을 높일 수 있다.\n",
    "- 단점: \n",
    "    - 사전에 결측치 처리 및 변수 간 교호작용의 유무 및 비선형 여부를 파악해야 한다."
   ]
  },
  {
   "cell_type": "code",
   "execution_count": 75,
   "metadata": {},
   "outputs": [
    {
     "name": "stdout",
     "output_type": "stream",
     "text": [
      "kg1 data's shape:  (230622, 185) (76874, 185)\n",
      "kg2 data's shape:  (230622, 5) (76874, 5)\n",
      "kg3 data's shape:  (230622, 220) (76874, 220)\n"
     ]
    }
   ],
   "source": [
    "# Scale each feature to 0-1\n",
    "scaler1 = MinMaxScaler(feature_range = (0, 1))\n",
    "scaler2 = MinMaxScaler(feature_range = (0, 1))\n",
    "scaler3 = MinMaxScaler(feature_range = (0, 1))\n",
    "\n",
    "# Repeat with the scaler\n",
    "scaler1.fit(kg1_train_f)\n",
    "kg1_train_f_scaled = scaler1.transform(kg1_train_f)\n",
    "kg1_test_f_scaled = scaler1.transform(kg1_test_f)\n",
    "\n",
    "scaler2.fit(kg2_train_f)\n",
    "kg2_train_f_scaled = scaler2.transform(kg2_train_f)\n",
    "kg2_test_f_scaled = scaler2.transform(kg2_test_f)\n",
    "\n",
    "scaler3.fit(kg3_train_f)\n",
    "kg3_train_f_scaled = scaler3.transform(kg3_train_f)\n",
    "kg3_test_f_scaled = scaler3.transform(kg3_test_f)\n",
    "\n",
    "print('kg1 data\\'s shape: ', kg1_train_f_scaled.shape, kg1_test_f_scaled.shape)\n",
    "print('kg2 data\\'s shape: ', kg2_train_f_scaled.shape, kg2_test_f_scaled.shape)\n",
    "print('kg3 data\\'s shape: ', kg3_train_f_scaled.shape, kg3_test_f_scaled.shape)"
   ]
  },
  {
   "cell_type": "code",
   "execution_count": 76,
   "metadata": {},
   "outputs": [
    {
     "name": "stdout",
     "output_type": "stream",
     "text": [
      "0.9187371543044462\n",
      "0.9194786273642584\n",
      "0.920103025730416\n"
     ]
    }
   ],
   "source": [
    "logistic_regression1 = LogisticRegression(random_state=1)\n",
    "logistic_regression2 = LogisticRegression(random_state=2)\n",
    "logistic_regression3 = LogisticRegression(random_state=3)\n",
    "\n",
    "model1 = logistic_regression1.fit(kg1_train_f, kg1_train_t)\n",
    "model2 = logistic_regression2.fit(kg2_train_f, kg2_train_t)\n",
    "model3 = logistic_regression3.fit(kg3_train_f, kg3_train_t)\n",
    "\n",
    "model1_pred = model1.predict(kg1_test_f)\n",
    "model2_pred = model2.predict(kg2_test_f)\n",
    "model3_pred = model3.predict(kg3_test_f)\n",
    "\n",
    "lr_accuracy1 = accuracy_score(kg1_test_t, model1_pred)\n",
    "lr_accuracy2 = accuracy_score(kg2_test_t, model2_pred)\n",
    "lr_accuracy3 = accuracy_score(kg3_test_t, model3_pred)\n",
    "\n",
    "print(lr_accuracy1)\n",
    "print(lr_accuracy2)\n",
    "print(lr_accuracy3)"
   ]
  },
  {
   "cell_type": "markdown",
   "metadata": {},
   "source": [
    "### 정확도 비교"
   ]
  },
  {
   "cell_type": "code",
   "execution_count": 77,
   "metadata": {},
   "outputs": [
    {
     "name": "stdout",
     "output_type": "stream",
     "text": [
      "0.9187371543044462 0.9187501626037412 0.9187241460051513 0.9187631709030362 0.9187371543044462\n",
      "0.9194786273642584 0.9193355360720139 0.9194526107656685 0.9194786273642584 0.9194786273642584\n",
      "0.920103025730416 0.9201550589275959 0.920116034029711 0.9206103494029191 0.920103025730416\n",
      "kg1_list's Optimizing algorithm in the list is LightGBM 0.9187631709030362\n",
      "kg2_list's Optimizing algorithm in the list is Decision Tree 0.9194786273642584\n",
      "kg2_list's Optimizing algorithm in the list is LightGBM 0.9194786273642584\n",
      "kg2_list's Optimizing algorithm in the list is Logistic Regression 0.9194786273642584\n",
      "kg3_list's Optimizing algorithm in the list is LightGBM 0.9206103494029191\n"
     ]
    }
   ],
   "source": [
    "# kg1\n",
    "print(dt_accuracy1, rf_accuracy1, gb_accuracy1, lgbm_accuracy1, lr_accuracy1)\n",
    "# kg2\n",
    "print(dt_accuracy2, rf_accuracy2, gb_accuracy2, lgbm_accuracy2, lr_accuracy2)\n",
    "# kg3\n",
    "print(dt_accuracy3, rf_accuracy3, gb_accuracy3, lgbm_accuracy3, lr_accuracy3)\n",
    "kg1_list = [dt_accuracy1, rf_accuracy1, gb_accuracy1, lgbm_accuracy1, lr_accuracy1]\n",
    "kg2_list = [dt_accuracy2, rf_accuracy2, gb_accuracy2, lgbm_accuracy2, lr_accuracy2]\n",
    "kg3_list = [dt_accuracy3, rf_accuracy3, gb_accuracy3, lgbm_accuracy3, lr_accuracy3]\n",
    "\n",
    "def find_optimizing_algorithm(list_name, name):\n",
    "    for x in range(len(list_name)):\n",
    "        if list_name[x] == max(list_name):\n",
    "            if x == 0:\n",
    "                print(f\"{name}\\'s Optimizing algorithm in the list is Decision Tree\", max(list_name))\n",
    "            elif x ==1:\n",
    "                print(f\"{name}\\'s Optimizing algorithm in the list is Random Forest\", max(list_name))\n",
    "            elif x ==2:\n",
    "                print(f\"{name}\\'s Optimizing algorithm in the list is Gradient Boost\", max(list_name))\n",
    "            elif x ==3:\n",
    "                print(f\"{name}\\'s Optimizing algorithm in the list is LightGBM\", max(list_name))\n",
    "            else:\n",
    "                print(f\"{name}\\'s Optimizing algorithm in the list is Logistic Regression\", max(list_name))\n",
    "                \n",
    "find_optimizing_algorithm(kg1_list, \"kg1_list\")\n",
    "find_optimizing_algorithm(kg2_list, \"kg2_list\")\n",
    "find_optimizing_algorithm(kg3_list, \"kg3_list\")"
   ]
  },
  {
   "cell_type": "markdown",
   "metadata": {},
   "source": [
    "단순 점수로만 확인했을 때 lightgbm이 원본 데이터와 다항변환을 시킨 데이터에서 높은 예측 성능(accuracy기준)을 보이고 있다. kg2의 경우 에측값이 0.914로 LIghtGBM과 Decision tree, Logistic Regression에서 동일하게 나왔다. LightGBM은 Decision Tree기반의 부스팅 모델이고 max_depth가 1인 것을 통해 설명변수와 반응변수간의 관계가 선형인 것을 알 수 있었다(데이터가 random이고 정규분포를 따른다). 따라서 logisticregression에서도 같은 결과값이 나온 것으로 생각한다. 또한 kg1과 kg3 data를 학습해 예측한 lightGBM과 logistic regression의 성능 차이가 그리 크지 않은데 이런 상황에서는 outlier에 over-fitting이 되기 쉬운 lightGBM보다(현재 data set에서 예측 성능이 높게 나왔다 할지라도 다른 data set을 만나면 그만큼의 예측 성능을 보이는 경우는 드물다.) 학습하고 예측하는 속도가 빠르며 이상치에 상대적으로 강한 logistic regression을 사용하는 것이 적절한 것 같다.\n",
    "주의할 사항은 train data라는 같은 data set에 train, test 데이터 모두 있어 성능이 전반적으로 높게 나왔으므로 절대적인 수치에는 의미를 두지 말고 모델 간의 상대적인 비교를 할 필요가 있었다."
   ]
  }
 ],
 "metadata": {
  "kernelspec": {
   "display_name": "Python 3",
   "language": "python",
   "name": "python3"
  },
  "language_info": {
   "codemirror_mode": {
    "name": "ipython",
    "version": 3
   },
   "file_extension": ".py",
   "mimetype": "text/x-python",
   "name": "python",
   "nbconvert_exporter": "python",
   "pygments_lexer": "ipython3",
   "version": "3.8.5"
  }
 },
 "nbformat": 4,
 "nbformat_minor": 4
}
